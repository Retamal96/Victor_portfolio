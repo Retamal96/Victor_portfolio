{
 "cells": [
  {
   "cell_type": "markdown",
   "metadata": {},
   "source": [
    "# Ejercicio de Ozono"
   ]
  },
  {
   "cell_type": "code",
   "execution_count": 1,
   "metadata": {},
   "outputs": [],
   "source": [
    "import pandas as pd \n",
    "import numpy as np"
   ]
  },
  {
   "cell_type": "markdown",
   "metadata": {},
   "source": [
    "## Leyendo datos y creando dataframe"
   ]
  },
  {
   "cell_type": "code",
   "execution_count": 2,
   "metadata": {},
   "outputs": [
    {
     "data": {
      "text/html": [
       "<div>\n",
       "<style scoped>\n",
       "    .dataframe tbody tr th:only-of-type {\n",
       "        vertical-align: middle;\n",
       "    }\n",
       "\n",
       "    .dataframe tbody tr th {\n",
       "        vertical-align: top;\n",
       "    }\n",
       "\n",
       "    .dataframe thead th {\n",
       "        text-align: right;\n",
       "    }\n",
       "</style>\n",
       "<table border=\"1\" class=\"dataframe\">\n",
       "  <thead>\n",
       "    <tr style=\"text-align: right;\">\n",
       "      <th></th>\n",
       "      <th>Date</th>\n",
       "      <th>Hour</th>\n",
       "      <th>O3</th>\n",
       "    </tr>\n",
       "  </thead>\n",
       "  <tbody>\n",
       "    <tr>\n",
       "      <th>0</th>\n",
       "      <td>000101</td>\n",
       "      <td>0:00</td>\n",
       "      <td>32.80</td>\n",
       "    </tr>\n",
       "    <tr>\n",
       "      <th>1</th>\n",
       "      <td>000101</td>\n",
       "      <td>1:00</td>\n",
       "      <td>34.80</td>\n",
       "    </tr>\n",
       "    <tr>\n",
       "      <th>2</th>\n",
       "      <td>000101</td>\n",
       "      <td>2:00</td>\n",
       "      <td>36.50</td>\n",
       "    </tr>\n",
       "    <tr>\n",
       "      <th>3</th>\n",
       "      <td>000101</td>\n",
       "      <td>3:00</td>\n",
       "      <td>31.60</td>\n",
       "    </tr>\n",
       "    <tr>\n",
       "      <th>4</th>\n",
       "      <td>000101</td>\n",
       "      <td>4:00</td>\n",
       "      <td>34.50</td>\n",
       "    </tr>\n",
       "    <tr>\n",
       "      <th>5</th>\n",
       "      <td>000101</td>\n",
       "      <td>5:00</td>\n",
       "      <td>30.60</td>\n",
       "    </tr>\n",
       "    <tr>\n",
       "      <th>6</th>\n",
       "      <td>000101</td>\n",
       "      <td>6:00</td>\n",
       "      <td>32.00</td>\n",
       "    </tr>\n",
       "    <tr>\n",
       "      <th>7</th>\n",
       "      <td>000101</td>\n",
       "      <td>7:00</td>\n",
       "      <td>32.60</td>\n",
       "    </tr>\n",
       "    <tr>\n",
       "      <th>8</th>\n",
       "      <td>000101</td>\n",
       "      <td>8:00</td>\n",
       "      <td>35.80</td>\n",
       "    </tr>\n",
       "    <tr>\n",
       "      <th>9</th>\n",
       "      <td>000101</td>\n",
       "      <td>9:00</td>\n",
       "      <td>42.10</td>\n",
       "    </tr>\n",
       "  </tbody>\n",
       "</table>\n",
       "</div>"
      ],
      "text/plain": [
       "     Date  Hour     O3\n",
       "0  000101  0:00  32.80\n",
       "1  000101  1:00  34.80\n",
       "2  000101  2:00  36.50\n",
       "3  000101  3:00  31.60\n",
       "4  000101  4:00  34.50\n",
       "5  000101  5:00  30.60\n",
       "6  000101  6:00  32.00\n",
       "7  000101  7:00  32.60\n",
       "8  000101  8:00  35.80\n",
       "9  000101  9:00  42.10"
      ]
     },
     "execution_count": 2,
     "metadata": {},
     "output_type": "execute_result"
    }
   ],
   "source": [
    "df = pd.read_csv('ozono.txt', header = None)\n",
    "df[['Date','Hour','O3']] = df.pop(0).str.split(n=2, expand=True)\n",
    "df.head(10)\n"
   ]
  },
  {
   "cell_type": "markdown",
   "metadata": {},
   "source": [
    "## Restructurando columnas "
   ]
  },
  {
   "cell_type": "code",
   "execution_count": 3,
   "metadata": {},
   "outputs": [],
   "source": [
    "df['Date'] = df['Date'].astype(str) \n",
    "df['Year'] = df['Date'].str[0:2]\n",
    "df['Month'] = df['Date'].str[2:4]\n",
    "df['Day'] = df['Date'].str[4:]\n"
   ]
  },
  {
   "cell_type": "code",
   "execution_count": 4,
   "metadata": {},
   "outputs": [],
   "source": [
    "def year(x):\n",
    "    x = '20' + str(x)\n",
    "    return x\n",
    "df['Date'] = df['Date'].apply(lambda x: year(x))\n",
    "df['Year'] = df['Year'].apply(lambda x: year(x))\n"
   ]
  },
  {
   "cell_type": "code",
   "execution_count": 5,
   "metadata": {},
   "outputs": [],
   "source": [
    "df['Date'] = pd.to_datetime(df['Date'], format='%Y%m%d')\n",
    "df['Hour'] = pd.to_datetime(df['Hour'], format='%H:%M')\n",
    "df['Hour'] =df['Hour'].dt.hour\n"
   ]
  },
  {
   "cell_type": "code",
   "execution_count": 6,
   "metadata": {},
   "outputs": [],
   "source": [
    "df['O3'] = round(pd.to_numeric(df['O3'],downcast='float'),2)\n",
    "x  = list(range(0,26304))\n",
    "df['index'] = x"
   ]
  },
  {
   "cell_type": "markdown",
   "metadata": {},
   "source": [
    "## Generando función para calcular la media de 8h"
   ]
  },
  {
   "cell_type": "code",
   "execution_count": 7,
   "metadata": {},
   "outputs": [],
   "source": [
    "def mean_calc(x):\n",
    "    count = 0\n",
    "    if (x+8) in df['index']:\n",
    "        for value in (range(x, (x+8))):\n",
    "              count += df['O3'].loc[value]\n",
    "        m = count/8\n",
    "    else:\n",
    "        for value in (range(x, (26304))):\n",
    "               count += df['O3'].loc[value]\n",
    "        m = count/ (26304 - x)\n",
    "\n",
    "    return m"
   ]
  },
  {
   "cell_type": "code",
   "execution_count": 8,
   "metadata": {},
   "outputs": [],
   "source": [
    "df['O3_8hmean'] = df['index'].apply(lambda x: mean_calc(x))"
   ]
  },
  {
   "cell_type": "code",
   "execution_count": 9,
   "metadata": {
    "scrolled": true
   },
   "outputs": [
    {
     "data": {
      "text/html": [
       "<div>\n",
       "<style scoped>\n",
       "    .dataframe tbody tr th:only-of-type {\n",
       "        vertical-align: middle;\n",
       "    }\n",
       "\n",
       "    .dataframe tbody tr th {\n",
       "        vertical-align: top;\n",
       "    }\n",
       "\n",
       "    .dataframe thead th {\n",
       "        text-align: right;\n",
       "    }\n",
       "</style>\n",
       "<table border=\"1\" class=\"dataframe\">\n",
       "  <thead>\n",
       "    <tr style=\"text-align: right;\">\n",
       "      <th></th>\n",
       "      <th>Date</th>\n",
       "      <th>Year</th>\n",
       "      <th>Month</th>\n",
       "      <th>Day</th>\n",
       "      <th>Hour</th>\n",
       "      <th>O3_8hmean</th>\n",
       "    </tr>\n",
       "  </thead>\n",
       "  <tbody>\n",
       "    <tr>\n",
       "      <th>0</th>\n",
       "      <td>2000-01-01</td>\n",
       "      <td>2000</td>\n",
       "      <td>01</td>\n",
       "      <td>01</td>\n",
       "      <td>0</td>\n",
       "      <td>33.175000</td>\n",
       "    </tr>\n",
       "    <tr>\n",
       "      <th>1</th>\n",
       "      <td>2000-01-01</td>\n",
       "      <td>2000</td>\n",
       "      <td>01</td>\n",
       "      <td>01</td>\n",
       "      <td>1</td>\n",
       "      <td>33.550000</td>\n",
       "    </tr>\n",
       "    <tr>\n",
       "      <th>2</th>\n",
       "      <td>2000-01-01</td>\n",
       "      <td>2000</td>\n",
       "      <td>01</td>\n",
       "      <td>01</td>\n",
       "      <td>2</td>\n",
       "      <td>34.462500</td>\n",
       "    </tr>\n",
       "    <tr>\n",
       "      <th>3</th>\n",
       "      <td>2000-01-01</td>\n",
       "      <td>2000</td>\n",
       "      <td>01</td>\n",
       "      <td>01</td>\n",
       "      <td>3</td>\n",
       "      <td>37.050000</td>\n",
       "    </tr>\n",
       "    <tr>\n",
       "      <th>4</th>\n",
       "      <td>2000-01-01</td>\n",
       "      <td>2000</td>\n",
       "      <td>01</td>\n",
       "      <td>01</td>\n",
       "      <td>4</td>\n",
       "      <td>41.062500</td>\n",
       "    </tr>\n",
       "    <tr>\n",
       "      <th>...</th>\n",
       "      <td>...</td>\n",
       "      <td>...</td>\n",
       "      <td>...</td>\n",
       "      <td>...</td>\n",
       "      <td>...</td>\n",
       "      <td>...</td>\n",
       "    </tr>\n",
       "    <tr>\n",
       "      <th>26299</th>\n",
       "      <td>2002-12-31</td>\n",
       "      <td>2002</td>\n",
       "      <td>12</td>\n",
       "      <td>31</td>\n",
       "      <td>19</td>\n",
       "      <td>61.920000</td>\n",
       "    </tr>\n",
       "    <tr>\n",
       "      <th>26300</th>\n",
       "      <td>2002-12-31</td>\n",
       "      <td>2002</td>\n",
       "      <td>12</td>\n",
       "      <td>31</td>\n",
       "      <td>20</td>\n",
       "      <td>61.450000</td>\n",
       "    </tr>\n",
       "    <tr>\n",
       "      <th>26301</th>\n",
       "      <td>2002-12-31</td>\n",
       "      <td>2002</td>\n",
       "      <td>12</td>\n",
       "      <td>31</td>\n",
       "      <td>21</td>\n",
       "      <td>61.100000</td>\n",
       "    </tr>\n",
       "    <tr>\n",
       "      <th>26302</th>\n",
       "      <td>2002-12-31</td>\n",
       "      <td>2002</td>\n",
       "      <td>12</td>\n",
       "      <td>31</td>\n",
       "      <td>22</td>\n",
       "      <td>61.949999</td>\n",
       "    </tr>\n",
       "    <tr>\n",
       "      <th>26303</th>\n",
       "      <td>2002-12-31</td>\n",
       "      <td>2002</td>\n",
       "      <td>12</td>\n",
       "      <td>31</td>\n",
       "      <td>23</td>\n",
       "      <td>63.599998</td>\n",
       "    </tr>\n",
       "  </tbody>\n",
       "</table>\n",
       "<p>26304 rows × 6 columns</p>\n",
       "</div>"
      ],
      "text/plain": [
       "            Date  Year Month Day  Hour  O3_8hmean\n",
       "0     2000-01-01  2000    01  01     0  33.175000\n",
       "1     2000-01-01  2000    01  01     1  33.550000\n",
       "2     2000-01-01  2000    01  01     2  34.462500\n",
       "3     2000-01-01  2000    01  01     3  37.050000\n",
       "4     2000-01-01  2000    01  01     4  41.062500\n",
       "...          ...   ...   ...  ..   ...        ...\n",
       "26299 2002-12-31  2002    12  31    19  61.920000\n",
       "26300 2002-12-31  2002    12  31    20  61.450000\n",
       "26301 2002-12-31  2002    12  31    21  61.100000\n",
       "26302 2002-12-31  2002    12  31    22  61.949999\n",
       "26303 2002-12-31  2002    12  31    23  63.599998\n",
       "\n",
       "[26304 rows x 6 columns]"
      ]
     },
     "execution_count": 9,
     "metadata": {},
     "output_type": "execute_result"
    }
   ],
   "source": [
    "df_final = df[['Date','Year','Month','Day','Hour','O3_8hmean']]\n",
    "df_final"
   ]
  },
  {
   "cell_type": "markdown",
   "metadata": {},
   "source": [
    "## Exportando archivo a .txt"
   ]
  },
  {
   "cell_type": "code",
   "execution_count": 10,
   "metadata": {},
   "outputs": [],
   "source": [
    "tfile = open('Ozono8h.txt', 'a')\n",
    "tfile.write(df_final.to_string())\n",
    "tfile.close()"
   ]
  },
  {
   "cell_type": "markdown",
   "metadata": {},
   "source": [
    "## Encontrando max"
   ]
  },
  {
   "cell_type": "code",
   "execution_count": 11,
   "metadata": {},
   "outputs": [],
   "source": [
    "def find_max(x):\n",
    "    max_list =[]\n",
    "    for x in (range(x, x+23)):\n",
    "        max_list.append(df_final['O3_8hmean'].loc[x])\n",
    "    return np.max(max_list)"
   ]
  },
  {
   "cell_type": "code",
   "execution_count": 12,
   "metadata": {},
   "outputs": [],
   "source": [
    "df_final2 = df[['Date','Year','Month','Day','Hour','O3_8hmean']]"
   ]
  },
  {
   "cell_type": "code",
   "execution_count": 13,
   "metadata": {},
   "outputs": [
    {
     "name": "stderr",
     "output_type": "stream",
     "text": [
      "<ipython-input-13-f3655f142db5>:1: SettingWithCopyWarning: \n",
      "A value is trying to be set on a copy of a slice from a DataFrame.\n",
      "Try using .loc[row_indexer,col_indexer] = value instead\n",
      "\n",
      "See the caveats in the documentation: https://pandas.pydata.org/pandas-docs/stable/user_guide/indexing.html#returning-a-view-versus-a-copy\n",
      "  df_final2['Year']=df_final2['Date'].dt.year\n",
      "<ipython-input-13-f3655f142db5>:2: SettingWithCopyWarning: \n",
      "A value is trying to be set on a copy of a slice from a DataFrame.\n",
      "Try using .loc[row_indexer,col_indexer] = value instead\n",
      "\n",
      "See the caveats in the documentation: https://pandas.pydata.org/pandas-docs/stable/user_guide/indexing.html#returning-a-view-versus-a-copy\n",
      "  df_final2['Month']=df_final2['Date'].dt.month\n",
      "<ipython-input-13-f3655f142db5>:3: SettingWithCopyWarning: \n",
      "A value is trying to be set on a copy of a slice from a DataFrame.\n",
      "Try using .loc[row_indexer,col_indexer] = value instead\n",
      "\n",
      "See the caveats in the documentation: https://pandas.pydata.org/pandas-docs/stable/user_guide/indexing.html#returning-a-view-versus-a-copy\n",
      "  df_final2['Day']=df_final2['Date'].dt.day\n"
     ]
    }
   ],
   "source": [
    "df_final2['Year']=df_final2['Date'].dt.year\n",
    "df_final2['Month']=df_final2['Date'].dt.month\n",
    "df_final2['Day']=df_final2['Date'].dt.day"
   ]
  },
  {
   "cell_type": "code",
   "execution_count": 14,
   "metadata": {},
   "outputs": [
    {
     "data": {
      "text/plain": [
       "Date         datetime64[ns]\n",
       "Year                  int64\n",
       "Month                 int64\n",
       "Day                   int64\n",
       "Hour                  int64\n",
       "O3_8hmean           float64\n",
       "dtype: object"
      ]
     },
     "execution_count": 14,
     "metadata": {},
     "output_type": "execute_result"
    }
   ],
   "source": [
    "df_final2.dtypes"
   ]
  },
  {
   "cell_type": "code",
   "execution_count": 15,
   "metadata": {},
   "outputs": [],
   "source": [
    "df_grouped=df.pivot_table(index=('Year','Month','Day'),values='O3_8hmean',aggfunc='max')\n",
    "my_list = []\n",
    "my_list.append(df_grouped['O3_8hmean'])"
   ]
  },
  {
   "cell_type": "code",
   "execution_count": 16,
   "metadata": {},
   "outputs": [
    {
     "data": {
      "text/plain": [
       "[Year  Month  Day\n",
       " 2000  01     01      57.687500\n",
       "              02      62.675000\n",
       "              03      55.862500\n",
       "              04      55.412499\n",
       "              05     175.500003\n",
       "                        ...    \n",
       " 2002  12     27     187.250003\n",
       "              28      70.537500\n",
       "              29      58.575000\n",
       "              30      67.812501\n",
       "              31      67.675001\n",
       " Name: O3_8hmean, Length: 1096, dtype: float64]"
      ]
     },
     "metadata": {},
     "output_type": "display_data"
    }
   ],
   "source": [
    "#pd.set_option('display.max_rows', None)\n",
    "#pd.set_option('display.max_columns', None)\n",
    "#pd.set_option('display.width', None)\n",
    "#pd.set_option('display.max_colwidth', -1)\n",
    "display(my_list)\n"
   ]
  },
  {
   "cell_type": "code",
   "execution_count": 17,
   "metadata": {},
   "outputs": [],
   "source": [
    "with open('Ozono8h_2.txt', 'a') as f:\n",
    "    for item in my_list:\n",
    "        f.write(\"%s\\n\" % item)"
   ]
  },
  {
   "cell_type": "markdown",
   "metadata": {},
   "source": [
    "## Percentil 95"
   ]
  },
  {
   "cell_type": "code",
   "execution_count": 18,
   "metadata": {},
   "outputs": [],
   "source": [
    "df_grouped_sorted = df_grouped.sort_values('O3_8hmean')"
   ]
  },
  {
   "cell_type": "code",
   "execution_count": 19,
   "metadata": {},
   "outputs": [
    {
     "data": {
      "text/plain": [
       "439.696884393692"
      ]
     },
     "execution_count": 19,
     "metadata": {},
     "output_type": "execute_result"
    }
   ],
   "source": [
    "Q95 = np.percentile(df_grouped_sorted['O3_8hmean'], 95)\n",
    "Q95"
   ]
  },
  {
   "cell_type": "code",
   "execution_count": 20,
   "metadata": {},
   "outputs": [],
   "source": [
    "df_grouped95 = df_grouped[df_grouped['O3_8hmean']>Q95]"
   ]
  },
  {
   "cell_type": "code",
   "execution_count": 21,
   "metadata": {},
   "outputs": [],
   "source": [
    "my_list2 = []\n",
    "my_list2.append(df_grouped95['O3_8hmean'])"
   ]
  },
  {
   "cell_type": "code",
   "execution_count": 23,
   "metadata": {
    "collapsed": true
   },
   "outputs": [
    {
     "data": {
      "text/plain": [
       "[Year  Month  Day\n",
       " 2000  01     12     531.950012\n",
       "              21     999.900024\n",
       "              22     999.900024\n",
       "              23     999.900024\n",
       "              24     999.900024\n",
       "       07     13     999.900024\n",
       "              14     882.900022\n",
       "              22     999.900024\n",
       "              23     999.900024\n",
       "       08     27     999.900024\n",
       "              28     882.287521\n",
       "       11     29     530.875012\n",
       "       12     07     765.512518\n",
       "              20     522.262512\n",
       "              21     999.900024\n",
       "              24     999.900024\n",
       "              25     999.900024\n",
       "              26     999.900024\n",
       "              27     999.900024\n",
       " 2001  01     05     999.900024\n",
       "       03     03     999.900024\n",
       "              04     999.900024\n",
       "       04     18     520.025012\n",
       "              19     518.526262\n",
       "       05     19     653.750014\n",
       "       06     18     548.487513\n",
       "              19     999.900024\n",
       "              20     443.287509\n",
       "              22     999.900024\n",
       "              23     882.300021\n",
       "              24     999.900024\n",
       "              25     999.900024\n",
       "              28     999.900024\n",
       "              29     772.375018\n",
       "       10     19     649.787515\n",
       "       12     13     530.712512\n",
       " 2002  03     13     658.887515\n",
       "       04     05     537.600013\n",
       "              06     538.087512\n",
       "              23     663.812515\n",
       "       05     07     999.900024\n",
       "              08     763.900018\n",
       "              22     535.325013\n",
       "       07     14     999.900024\n",
       "              15     767.725019\n",
       "       08     14     538.262513\n",
       "              24     999.900024\n",
       "              25     884.450022\n",
       "              27     550.350012\n",
       "       09     22     764.600018\n",
       "              23     764.525019\n",
       "       10     16     999.900024\n",
       "              29     999.900024\n",
       "              30     883.337522\n",
       "       12     03     533.162512\n",
       " Name: O3_8hmean, dtype: float64]"
      ]
     },
     "execution_count": 23,
     "metadata": {},
     "output_type": "execute_result"
    }
   ],
   "source": [
    "l(my_list2)"
   ]
  },
  {
   "cell_type": "code",
   "execution_count": 22,
   "metadata": {},
   "outputs": [],
   "source": [
    "with open('Ozonosup95p.txt', 'a') as f:\n",
    "    for item in my_list2:\n",
    "        f.write(\"%s\\n\" % item)"
   ]
  }
 ],
 "metadata": {
  "kernelspec": {
   "display_name": "Python 3",
   "language": "python",
   "name": "python3"
  },
  "language_info": {
   "codemirror_mode": {
    "name": "ipython",
    "version": 3
   },
   "file_extension": ".py",
   "mimetype": "text/x-python",
   "name": "python",
   "nbconvert_exporter": "python",
   "pygments_lexer": "ipython3",
   "version": "3.8.3"
  }
 },
 "nbformat": 4,
 "nbformat_minor": 4
}
