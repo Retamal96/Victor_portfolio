{
 "cells": [
  {
   "cell_type": "markdown",
   "metadata": {
    "deletable": false,
    "editable": false,
    "nbgrader": {
     "checksum": "48770f8b5f5d3062d3badd51fcafc401",
     "grade": false,
     "grade_id": "cell-a6c4f74309fc2379",
     "locked": true,
     "schema_version": 1,
     "solution": false
    }
   },
   "source": [
    "# Assignment 4\n",
    "## Description\n",
    "In this assignment you must read in a file of metropolitan regions and associated sports teams from [assets/wikipedia_data.html](assets/wikipedia_data.html) and answer some questions about each metropolitan region. Each of these regions may have one or more teams from the \"Big 4\": NFL (football, in [assets/nfl.csv](assets/nfl.csv)), MLB (baseball, in [assets/mlb.csv](assets/mlb.csv)), NBA (basketball, in [assets/nba.csv](assets/nba.csv) or NHL (hockey, in [assets/nhl.csv](assets/nhl.csv)). Please keep in mind that all questions are from the perspective of the metropolitan region, and that this file is the \"source of authority\" for the location of a given sports team. Thus teams which are commonly known by a different area (e.g. \"Oakland Raiders\") need to be mapped into the metropolitan region given (e.g. San Francisco Bay Area). This will require some human data understanding outside of the data you've been given (e.g. you will have to hand-code some names, and might need to google to find out where teams are)!\n",
    "\n",
    "For each sport I would like you to answer the question: **what is the win/loss ratio's correlation with the population of the city it is in?** Win/Loss ratio refers to the number of wins over the number of wins plus the number of losses. Remember that to calculate the correlation with [`pearsonr`](https://docs.scipy.org/doc/scipy/reference/generated/scipy.stats.pearsonr.html), so you are going to send in two ordered lists of values, the populations from the wikipedia_data.html file and the win/loss ratio for a given sport in the same order. Average the win/loss ratios for those cities which have multiple teams of a single sport. Each sport is worth an equal amount in this assignment (20%\\*4=80%) of the grade for this assignment. You should only use data **from year 2018** for your analysis -- this is important!\n",
    "\n",
    "## Notes\n",
    "\n",
    "1. Do not include data about the MLS or CFL in any of the work you are doing, we're only interested in the Big 4 in this assignment.\n",
    "2. I highly suggest that you first tackle the four correlation questions in order, as they are all similar and worth the majority of grades for this assignment. This is by design!\n",
    "3. It's fair game to talk with peers about high level strategy as well as the relationship between metropolitan areas and sports teams. However, do not post code solving aspects of the assignment (including such as dictionaries mapping areas to teams, or regexes which will clean up names).\n",
    "4. There may be more teams than the assert statements test, remember to collapse multiple teams in one city into a single value!"
   ]
  },
  {
   "cell_type": "markdown",
   "metadata": {
    "deletable": false,
    "editable": false,
    "nbgrader": {
     "checksum": "369ff9ecf0ee04640574205cbc697f94",
     "grade": false,
     "grade_id": "cell-712b2b5da63d4505",
     "locked": true,
     "schema_version": 1,
     "solution": false
    }
   },
   "source": [
    "## Question 1\n",
    "For this question, calculate the win/loss ratio's correlation with the population of the city it is in for the **NHL** using **2018** data."
   ]
  },
  {
   "cell_type": "code",
   "execution_count": 31,
   "metadata": {},
   "outputs": [],
   "source": [
    "import os\n",
    "\n",
    "my_path = r\"C:\\Users\\victo\\Desktop\\Datascience\\Data Science with python\\Course 1 - Notebook Resources\\assignments\\assignment4\\assests\\nhl.csv\"\n",
    "\n",
    "nhl_df=pd.read_csv(my_path)"
   ]
  },
  {
   "cell_type": "code",
   "execution_count": 32,
   "metadata": {
    "deletable": false,
    "nbgrader": {
     "checksum": "1cac4803b02502929f5b1612d48db2b5",
     "grade": false,
     "grade_id": "cell-69b16e4386e58030",
     "locked": false,
     "schema_version": 1,
     "solution": true
    }
   },
   "outputs": [
    {
     "name": "stderr",
     "output_type": "stream",
     "text": [
      "<ipython-input-32-58dd9d909a5d>:19: FutureWarning: The default value of regex will change from True to False in a future version.\n",
      "  citiesNHL['NHL'] = citiesNHL['NHL'].str.replace(r\"\\[[note]*\\s[0-9]*\\]\", \"\")\n",
      "<ipython-input-32-58dd9d909a5d>:37: FutureWarning: The default value of regex will change from True to False in a future version.\n",
      "  nhl_df['team'] = nhl_df['team'].str.replace(r\"[\\*]\",\"\")\n",
      "c:\\users\\victo\\appdata\\local\\programs\\python\\python38\\lib\\site-packages\\pandas\\core\\indexing.py:1637: SettingWithCopyWarning: \n",
      "A value is trying to be set on a copy of a slice from a DataFrame\n",
      "\n",
      "See the caveats in the documentation: https://pandas.pydata.org/pandas-docs/stable/user_guide/indexing.html#returning-a-view-versus-a-copy\n",
      "  self._setitem_single_block(indexer, value, name)\n"
     ]
    },
    {
     "data": {
      "text/plain": [
       "0.012485890331976723"
      ]
     },
     "execution_count": 32,
     "metadata": {},
     "output_type": "execute_result"
    }
   ],
   "source": [
    "nhl_df=pd.read_csv(my_path)\n",
    "cities=pd.read_html(r\"C:\\Users\\victo\\Desktop\\Datascience\\Data Science with python\\Course 1 - Notebook Resources\\assignments\\assignment4\\assests\\wikipedia_data.html\")[1]\n",
    "cities=cities.iloc[:-1,[0,3,5,6,7,8]]\n",
    "nhl_df.drop([0,9,18,26,35,44,53,61,69,78,87,95,103,112,121,129, 137,146,155,163], axis = 0, inplace =True)\n",
    "\n",
    "def nhl_correlation(): \n",
    "    nhl_df=pd.read_csv(r\"C:\\Users\\victo\\Desktop\\Datascience\\Data Science with python\\Course 1 - Notebook Resources\\assignments\\assignment4\\assests\\nhl.csv\")\n",
    "    cities=pd.read_html(r\"C:\\Users\\victo\\Desktop\\Datascience\\Data Science with python\\Course 1 - Notebook Resources\\assignments\\assignment4\\assests\\wikipedia_data.html\")[1]\n",
    "    cities=cities.iloc[:-1,[0,3,5,6,7,8]]\n",
    "    nhl_df.drop([0,9,18,26,35,44,53,61,69,78,87,95,103,112,121,129, 137,146,155,163], axis = 0, inplace =True)\n",
    "  #WIKI PAGE, EXTRAT POPILATION, AREA AND TEAM NAME IN A DF\n",
    "    #Converting everything to nan\n",
    "    change = {'—':np.nan} \n",
    "    citiesNHL = cities.replace(change)\n",
    "    #GETTING JUST NHL\n",
    "    citiesNHL = citiesNHL.drop(['NFL','MLB','NBA'], axis=1).dropna()\n",
    "    #CLEANING WITH REGEX THE [NOTES] AND SEPARATING NAMES\n",
    "    citiesNHL = cities.drop(['NFL','MLB','NBA'], axis=1)\n",
    "    citiesNHL['NHL'] = citiesNHL['NHL'].str.replace(r\"\\[[note]*\\s[0-9]*\\]\", \"\")\n",
    "\n",
    "    citiesNHL['NHL'] = citiesNHL['NHL'].str.findall(r\"[A-Z]{1}[a-z]*\")\n",
    "    citiesNHL.rename(columns={'NHL' : 'team', 'Population (2016 est.)[8]':'population'},inplace=True)\n",
    "    citiesNHL = citiesNHL.dropna()\n",
    "    #citiesNHL[citiesNHL['team'].apply(lambda x: len(x))>0]\n",
    "    citiesNHL['team'] = citiesNHL['team'].astype('str')\n",
    "    citiesNHL = citiesNHL[citiesNHL['team'].apply(lambda x: len(x)>0)]\n",
    "    citiesNHL.drop([15,18,19,21,49], axis=0,inplace=True)\n",
    "    citiesNHL = citiesNHL[['Metropolitan area', 'population']].sort_values('Metropolitan area').reset_index().drop(['index'],axis=1)\n",
    "\n",
    "    #CALCULATE THE W/L RATIO FROM NHL \n",
    "    nhl_df = nhl_df[nhl_df['year'] == 2018]\n",
    "    nhl_df['W'] = nhl_df['W'].astype(int)\n",
    "    nhl_df['L'] = nhl_df['L'].astype(int)\n",
    "    nhl_df['W/L'] = nhl_df['W'] / (nhl_df['W'] + nhl_df['L'])\n",
    "    nhl_df= nhl_df[['team','W/L']]\n",
    "    #CLEANING THE NAMES OF THE TEAMS TO GET THE CITIES\n",
    "    nhl_df['team'] = nhl_df['team'].str.replace(r\"[\\*]\",\"\")\n",
    "    nhl_df['team'] = nhl_df['team'].str.findall(r\"[\\w]*\")\n",
    "    nhl_df['team2'] = nhl_df['team'].apply(lambda x: x[0])\n",
    "    #MAPPING THE CITIES TO WIKI\n",
    "    for i in range(0, len(nhl_df)):\n",
    "        if 'New' in nhl_df['team2'].iloc[i]:\n",
    "            nhl_df['team2'].iloc[i] = 'New York City'\n",
    "        elif 'San' in nhl_df['team2'].iloc[i]:\n",
    "            nhl_df['team2'].iloc[i]= 'San Francisco Bay Area'\n",
    "        elif 'Vegas' in nhl_df['team2'].iloc[i]:\n",
    "            nhl_df['team2'].iloc[i] = 'Las Vegas'\n",
    "        elif 'St' in nhl_df['team2'].iloc[i]:\n",
    "            nhl_df['team2'].iloc[i] = 'St. Louis'\n",
    "        elif 'Los' in nhl_df['team2'].iloc[i]:\n",
    "            nhl_df['team2'].iloc[i] = 'Los Angeles'\n",
    "        elif 'Tampa' in nhl_df['team2'].iloc[i]:\n",
    "            nhl_df['team2'].iloc[i] = 'Tampa Bay Area' \n",
    "        elif 'Dallas' in nhl_df['team2'].iloc[i]:\n",
    "            nhl_df['team2'].iloc[i] = 'Dallas–Fort Worth'  \n",
    "        elif 'Florida' in nhl_df['team2'].iloc[i]:\n",
    "            nhl_df['team2'].iloc[i] = 'Miami–Fort Lauderdale'\n",
    "        elif 'Minnesota' in nhl_df['team2'].iloc[i]:\n",
    "            nhl_df['team2'].iloc[i] = 'Minneapolis–Saint Paul' \n",
    "        elif 'Washington' in nhl_df['team2'].iloc[i]:\n",
    "            nhl_df['team2'].iloc[i] = 'Washington, D.C.'  \n",
    "        elif 'Anaheim' in nhl_df['team2'].iloc[i]:\n",
    "            nhl_df['team2'].iloc[i] = 'Los Angeles'\n",
    "        elif 'Carolina' in nhl_df['team2'].iloc[i]:\n",
    "            nhl_df['team2'].iloc[i] = 'Raleigh'\n",
    "        elif 'Arizona' in nhl_df['team2'].iloc[i]:\n",
    "            nhl_df['team2'].iloc[i] = 'Phoenix'\n",
    "        elif 'Colorado' in nhl_df['team2'].iloc[i]:\n",
    "            nhl_df['team2'].iloc[i] = 'Denver'\n",
    "\n",
    "    nhl_df.sort_values('team2', inplace = True)\n",
    "    nhl_df.reset_index(inplace=True)\n",
    "    #JOINING 2 TEAMS IN ONE CITY\n",
    "    nhl_df = nhl_df.append({'team2' : 'New York City', 'W/L': 0.518201}, ignore_index = True)\n",
    "    nhl_df = nhl_df.append({'team2' : 'Los Angeles', 'W/L': 0.622895}, ignore_index = True)\n",
    "    nhl_df.drop([10,11,16,17,18], axis=0, inplace=True)\n",
    "    nhl_df = nhl_df[['team2', 'W/L']].sort_values('team2').reset_index().drop(['index'], axis=1).rename(columns = {'team2': 'Metropolitan area', 'W/L':'Ratio'})\n",
    "    #MERGING THE 2 DATAFRAMES\n",
    "    nhl_final = pd.merge(citiesNHL, nhl_df, how='inner', on='Metropolitan area')\n",
    "    nhl_final['population'] = nhl_final['population'].astype(int)\n",
    "\n",
    "    population_by_region = nhl_final['population'].tolist() # pass in metropolitan area population from cities\n",
    "    win_loss_by_region = nhl_final['Ratio'].tolist()# pass in win/loss ratio from nhl_df in the same order as cities[\"Metropolitan area\"]\n",
    "    \n",
    "    \n",
    "    assert len(population_by_region) == len(win_loss_by_region), \"Q1: Your lists must be the same length\"\n",
    "    assert len(population_by_region) == 28, \"Q1: There should be 28 teams being analysed for NHL\"\n",
    "    corr, pval = stats.pearsonr(population_by_region, win_loss_by_region)\n",
    "    return corr\n",
    "nhl_correlation()\n"
   ]
  },
  {
   "cell_type": "code",
   "execution_count": null,
   "metadata": {
    "deletable": false,
    "editable": false,
    "nbgrader": {
     "checksum": "52a581df513c71153e105b93764cda4b",
     "grade": true,
     "grade_id": "cell-ebe0b2dfe1067e63",
     "locked": true,
     "points": 20,
     "schema_version": 1,
     "solution": false
    }
   },
   "outputs": [],
   "source": []
  },
  {
   "cell_type": "markdown",
   "metadata": {
    "deletable": false,
    "editable": false,
    "nbgrader": {
     "checksum": "988912cae4968d81473f46d783e79c16",
     "grade": false,
     "grade_id": "cell-cb964e690298b71d",
     "locked": true,
     "schema_version": 1,
     "solution": false
    }
   },
   "source": [
    "## Question 2\n",
    "For this question, calculate the win/loss ratio's correlation with the population of the city it is in for the **NBA** using **2018** data."
   ]
  },
  {
   "cell_type": "code",
   "execution_count": 33,
   "metadata": {
    "deletable": false,
    "nbgrader": {
     "checksum": "9394222aafc8ccab0a228098ba0d6010",
     "grade": false,
     "grade_id": "cell-5a5f21279e3d3572",
     "locked": false,
     "schema_version": 1,
     "solution": true
    }
   },
   "outputs": [
    {
     "name": "stderr",
     "output_type": "stream",
     "text": [
      "<ipython-input-33-c1cc47cba815>:8: FutureWarning: Passing a negative integer is deprecated in version 1.0 and will not be supported in future version. Instead, use None to not limit the column width.\n",
      "  pd.set_option('display.max_colwidth', -1)\n",
      "<ipython-input-33-c1cc47cba815>:26: FutureWarning: The default value of regex will change from True to False in a future version.\n",
      "  citiesNBA['NBA'] = citiesNBA['NBA'].str.replace(r\"\\[[note]*\\s[0-9]*\\]\", \"\")\n",
      "<ipython-input-33-c1cc47cba815>:34: FutureWarning: The default value of regex will change from True to False in a future version.\n",
      "  nba_df['W'] = nba_df['W'].str.replace(r\"[\\w]*\\s[\\w]*\",'_')\n",
      "<ipython-input-33-c1cc47cba815>:47: FutureWarning: The default value of regex will change from True to False in a future version.\n",
      "  nba_df['team'] = nba_df['team'].str.replace(r\"[\\*]\",\"\")\n"
     ]
    },
    {
     "data": {
      "text/plain": [
       "-0.1765716772189955"
      ]
     },
     "execution_count": 33,
     "metadata": {},
     "output_type": "execute_result"
    }
   ],
   "source": [
    "import pandas as pd\n",
    "import numpy as np\n",
    "import scipy.stats as stats\n",
    "import re\n",
    "pd.set_option('display.max_rows', None)\n",
    "pd.set_option('display.max_columns', None)\n",
    "pd.set_option('display.width', None)\n",
    "pd.set_option('display.max_colwidth', -1)\n",
    "\n",
    "#nba_df=pd.read_csv(\"assets/nba.csv\")\n",
    "#cities=pd.read_html(\"assets/wikipedia_data.html\")[1]\n",
    "#cities=cities.iloc[:-1,[0,3,5,6,7,8]]\n",
    "\n",
    "def nba_correlation():\n",
    "    nba_df=pd.read_csv(r\"C:\\Users\\victo\\Desktop\\Datascience\\Data Science with python\\Course 1 - Notebook Resources\\assignments\\assignment4\\assests\\nba.csv\")\n",
    "    cities=pd.read_html(r\"C:\\Users\\victo\\Desktop\\Datascience\\Data Science with python\\Course 1 - Notebook Resources\\assignments\\assignment4\\assests\\wikipedia_data.html\")[1]\n",
    "    cities=cities.iloc[:-1,[0,3,5,6,7,8]]\n",
    "   #WIKI PAGE, EXTRAT POPILATION, AREA AND TEAM NAME IN A DF\n",
    "    #Converting everything to nan\n",
    "    change = {'—':np.nan} \n",
    "    cities = cities.replace(change)\n",
    "    #GETTING JUST NBA\n",
    "    citiesNBA = cities.drop(['NFL','MLB','NHL'], axis=1)\n",
    "    citiesNBA = citiesNBA.dropna()\n",
    "    #CLEANING NAN VALUES AND KEEPING 28 CITIES\n",
    "    citiesNBA['NBA'] = citiesNBA['NBA'].str.replace(r\"\\[[note]*\\s[0-9]*\\]\", \"\")\n",
    "    citiesNBA.drop([17,19,20,21,22,23,29,31,40,],axis = 0, inplace = True)\n",
    "    #SORTING\n",
    "    citiesNBA.sort_values('Metropolitan area', inplace=True)\n",
    "    citiesNBA.reset_index(inplace=True)\n",
    "    citiesNBA.drop('index',axis=1,inplace=True)\n",
    "\n",
    "    #Cleaning the leagues\n",
    "    nba_df['W'] = nba_df['W'].str.replace(r\"[\\w]*\\s[\\w]*\",'_')\n",
    "    change = {'_':np.nan} \n",
    "    nba_df = nba_df.replace(change)\n",
    "    nba_df = nba_df.dropna()\n",
    "\n",
    "    #CALCULATE THE W/L RATIO FROM NHL \n",
    "    nba_df = nba_df[nba_df['year'] == 2018]\n",
    "    nba_df['W'] = nba_df['W'].astype(int)\n",
    "    nba_df['L'] = nba_df['L'].astype(int)\n",
    "    nba_df['W/L'] = nba_df['W'] / (nba_df['W'] + nba_df['L'])\n",
    "    nba_df= nba_df[['team','W/L']]\n",
    "\n",
    "    #CLEANING THE NAMES AND MAPPING THEM CORRECTLY.\n",
    "    nba_df['team'] = nba_df['team'].str.replace(r\"[\\*]\",\"\")\n",
    "    nba_df['team'] = nba_df['team'].str.findall(r\"[\\w]*\")\n",
    "    nba_df['team2'] = nba_df['team'].apply(lambda x: x[0])\n",
    "    nba_df = nba_df.replace({'Dallas':'Dallas–Fort Worth','Indiana':'Indianapolis',\n",
    "                             'Los':'Los Angeles',\n",
    "                             'Miami':'Miami–Fort Lauderdale',\n",
    "                            'Minnesota':'Minneapolis–Saint Paul',\n",
    "                            'Brooklyn': 'New York City',\n",
    "                            'New':'New Orleans',\n",
    "                            'Oklahoma':'Oklahoma City',\n",
    "                            'Utah':'Salt Lake City',\n",
    "                            'San':'San Antonio',\n",
    "                            'Golden':'San Francisco Bay Area',\n",
    "                            'Washington':'Washington, D.C.'})\n",
    "\n",
    "    #ADDING THE 2 TEAMS TO ONE CITY\n",
    "    nba_df = nba_df.append({'team2' : 'New York City', 'W/L': 0.347561}, ignore_index = True)\n",
    "    nba_df = nba_df.append({'team2' : 'Los Angeles', 'W/L': 0.469512}, ignore_index = True)\n",
    "    nba_df.sort_values('team2',inplace=True)\n",
    "    nba_df.reset_index(inplace=True)\n",
    "    nba_df.drop([10,11,17,20], axis=0, inplace=True)\n",
    "    nba_df.rename(columns={'team2':'Metropolitan area'},inplace=True)\n",
    "\n",
    "    final_nba = pd.merge(citiesNBA, nba_df, how='right', on = 'Metropolitan area' )\n",
    "    final_nba.rename(columns={'Population (2016 est.)[8]':'population'},inplace=True)\n",
    "    final_nba = final_nba[['Metropolitan area', 'population', 'W/L']]\n",
    "    final_nba['population'] = final_nba['population'].astype(int)\n",
    "\n",
    "    \n",
    "    population_by_region = final_nba['population'].tolist() # pass in metropolitan area population from cities\n",
    "    win_loss_by_region = final_nba['W/L'].tolist() # pass in win/loss ratio from nba_df in the same order as cities[\"Metropolitan area\"]\n",
    "\n",
    "    assert len(population_by_region) == len(win_loss_by_region), \"Q2: Your lists must be the same length\"\n",
    "    assert len(population_by_region) == 28, \"Q2: There should be 28 teams being analysed for NBA\"\n",
    "    corr, pval = stats.pearsonr(population_by_region, win_loss_by_region)\n",
    "    return corr\n",
    "nba_correlation()"
   ]
  },
  {
   "cell_type": "code",
   "execution_count": null,
   "metadata": {
    "deletable": false,
    "editable": false,
    "nbgrader": {
     "checksum": "bbdeb8eb22f525a34c10dc8798324e42",
     "grade": true,
     "grade_id": "cell-e573b2b4a282b470",
     "locked": true,
     "points": 20,
     "schema_version": 1,
     "solution": false
    }
   },
   "outputs": [],
   "source": []
  },
  {
   "cell_type": "markdown",
   "metadata": {
    "deletable": false,
    "editable": false,
    "nbgrader": {
     "checksum": "1a1a5809f675ca033086422007cd73bd",
     "grade": false,
     "grade_id": "cell-96e15e4335df78f4",
     "locked": true,
     "schema_version": 1,
     "solution": false
    }
   },
   "source": [
    "## Question 3\n",
    "For this question, calculate the win/loss ratio's correlation with the population of the city it is in for the **MLB** using **2018** data."
   ]
  },
  {
   "cell_type": "code",
   "execution_count": 41,
   "metadata": {
    "deletable": false,
    "nbgrader": {
     "checksum": "27e8c0da6c9fa0dffc10488314335b6c",
     "grade": false,
     "grade_id": "cell-33b00fc3f3467b0c",
     "locked": false,
     "schema_version": 1,
     "solution": true
    }
   },
   "outputs": [
    {
     "name": "stderr",
     "output_type": "stream",
     "text": [
      "<ipython-input-41-35578a118a1c>:10: FutureWarning: The default value of regex will change from True to False in a future version.\n",
      "  cities['NFL'] = cities['NFL'].str.replace(r\"\\[.*\\]\", \"\")\n",
      "<ipython-input-41-35578a118a1c>:11: FutureWarning: The default value of regex will change from True to False in a future version.\n",
      "  cities['MLB'] = cities['MLB'].str.replace(r\"\\[.*\\]\", \"\")\n",
      "<ipython-input-41-35578a118a1c>:12: FutureWarning: The default value of regex will change from True to False in a future version.\n",
      "  cities['NBA'] = cities['NBA'].str.replace(r\"\\[.*\\]\", \"\")\n",
      "<ipython-input-41-35578a118a1c>:13: FutureWarning: The default value of regex will change from True to False in a future version.\n",
      "  cities['NHL'] = cities['NHL'].str.replace(r\"\\[.*\\]\", \"\")\n",
      "<ipython-input-41-35578a118a1c>:24: FutureWarning: The default value of regex will change from True to False in a future version.\n",
      "  team['team']=team['team'].str.replace('\\ Sox','Sox')\n",
      "<ipython-input-41-35578a118a1c>:25: FutureWarning: The default value of regex will change from True to False in a future version.\n",
      "  team['team']=team['team'].str.replace('[\\w.]*\\ ','')\n",
      "<ipython-input-41-35578a118a1c>:29: FutureWarning: The default value of regex will change from True to False in a future version.\n",
      "  mlb_df['team'] = mlb_df['team'].str.replace(r'[\\*]',\"\")\n",
      "<ipython-input-41-35578a118a1c>:30: FutureWarning: The default value of regex will change from True to False in a future version.\n",
      "  mlb_df['team'] = mlb_df['team'].str.replace(r'\\(\\d*\\)',\"\")\n",
      "<ipython-input-41-35578a118a1c>:31: FutureWarning: The default value of regex will change from True to False in a future version.\n",
      "  mlb_df['team'] = mlb_df['team'].str.replace(r'[\\xa0]',\"\")\n",
      "<ipython-input-41-35578a118a1c>:34: FutureWarning: The default value of regex will change from True to False in a future version.\n",
      "  mlb_df['team']=mlb_df['team'].str.replace('\\ Sox','Sox')\n",
      "<ipython-input-41-35578a118a1c>:35: FutureWarning: The default value of regex will change from True to False in a future version.\n",
      "  mlb_df['team'] = mlb_df['team'].str.replace('[\\w.]* ','')\n"
     ]
    },
    {
     "data": {
      "text/plain": [
       "0.15003737475409498"
      ]
     },
     "execution_count": 41,
     "metadata": {},
     "output_type": "execute_result"
    }
   ],
   "source": [
    "import pandas as pd\n",
    "import numpy as np\n",
    "import scipy.stats as stats\n",
    "import re\n",
    "\n",
    "cities=pd.read_html(r\"C:\\Users\\victo\\Desktop\\Datascience\\Data Science with python\\Course 1 - Notebook Resources\\assignments\\assignment4\\assests\\wikipedia_data.html\")[1]\n",
    "cities = cities.iloc[:-1, [0, 3, 5, 6, 7, 8]]\n",
    "cities.rename(columns={\"Population (2016 est.)[8]\": \"Population\"},\n",
    "              inplace=True)\n",
    "cities['NFL'] = cities['NFL'].str.replace(r\"\\[.*\\]\", \"\")\n",
    "cities['MLB'] = cities['MLB'].str.replace(r\"\\[.*\\]\", \"\")\n",
    "cities['NBA'] = cities['NBA'].str.replace(r\"\\[.*\\]\", \"\")\n",
    "cities['NHL'] = cities['NHL'].str.replace(r\"\\[.*\\]\", \"\")\n",
    "\n",
    "Big4='MLB'\n",
    "\n",
    "def mlb_correlation():\n",
    "   \n",
    "    team = cities[Big4].str.extract('([A-Z]{0,2}[a-z0-9]*\\ [A-Z]{0,2}[a-z0-9]*|[A-Z]{0,2}[a-z0-9]*)([A-Z]{0,2}[a-z0-9]*\\ [A-Z]{0,2}[a-z0-9]*|[A-Z]{0,2}[a-z0-9]*)([A-Z]{0,2}[a-z0-9]*\\ [A-Z]{0,2}[a-z0-9]*|[A-Z]{0,2}[a-z0-9]*)')\n",
    "    team['Metropolitan area']=cities['Metropolitan area']\n",
    "    team = pd.melt(team, id_vars=['Metropolitan area']).drop(columns=['variable']).replace(\"\",np.nan).replace(\"—\",np.nan).dropna().reset_index().rename(columns = {\"value\":\"team\"})\n",
    "    team=pd.merge(team,cities,how='left',on = 'Metropolitan area').iloc[:,1:4]\n",
    "    team = team.astype({'Metropolitan area': str, 'team': str, 'Population': int})\n",
    "    team['team']=team['team'].str.replace('\\ Sox','Sox')\n",
    "    team['team']=team['team'].str.replace('[\\w.]*\\ ','')\n",
    "\n",
    "    mlb_df=pd.read_csv(r\"C:\\Users\\victo\\Desktop\\Datascience\\Data Science with python\\Course 1 - Notebook Resources\\assignments\\assignment4\\assests\\mlb.csv\")\n",
    "    mlb_df = mlb_df[mlb_df['year'] == 2018]\n",
    "    mlb_df['team'] = mlb_df['team'].str.replace(r'[\\*]',\"\")\n",
    "    mlb_df['team'] = mlb_df['team'].str.replace(r'\\(\\d*\\)',\"\")\n",
    "    mlb_df['team'] = mlb_df['team'].str.replace(r'[\\xa0]',\"\")\n",
    "    mlb_df = mlb_df[['team','W-L%']]\n",
    "    mlb_df.rename(columns={\"W-L%\": \"W/L%\"},inplace=True)\n",
    "    mlb_df['team']=mlb_df['team'].str.replace('\\ Sox','Sox')\n",
    "    mlb_df['team'] = mlb_df['team'].str.replace('[\\w.]* ','')\n",
    "    mlb_df = mlb_df.astype({'team': str,'W/L%': float})\n",
    "   \n",
    "    merge=pd.merge(team,mlb_df,'outer', on = 'team')\n",
    "    merge=merge.groupby('Metropolitan area').agg({'W/L%': np.nanmean, 'Population': np.nanmean})\n",
    "   \n",
    "    population_by_region = merge['Population'] # pass in metropolitan area population from cities\n",
    "    win_loss_by_region = merge['W/L%'] # pass in win/loss ratio from _df in the same order as cities[\"Metropolitan area\"]  \n",
    "\n",
    "    assert len(population_by_region) == len(win_loss_by_region), \"Q3: Your lists must be the same length\"\n",
    "    assert len(population_by_region) == 26, \"Q3: There should be 26 teams being analysed for MLB\"\n",
    "   \n",
    "    return stats.pearsonr(population_by_region, win_loss_by_region)[0]\n",
    "mlb_correlation()"
   ]
  },
  {
   "cell_type": "code",
   "execution_count": null,
   "metadata": {
    "deletable": false,
    "editable": false,
    "nbgrader": {
     "checksum": "cda33b094ba19ccc37a481e0dd29e0bc",
     "grade": true,
     "grade_id": "cell-764d4476f425c5a2",
     "locked": true,
     "points": 20,
     "schema_version": 1,
     "solution": false
    }
   },
   "outputs": [],
   "source": []
  },
  {
   "cell_type": "markdown",
   "metadata": {
    "deletable": false,
    "editable": false,
    "nbgrader": {
     "checksum": "6977a6da9ed6d8b7a0b7e37bbeda709b",
     "grade": false,
     "grade_id": "cell-793df6c04dfb126e",
     "locked": true,
     "schema_version": 1,
     "solution": false
    }
   },
   "source": [
    "## Question 4\n",
    "For this question, calculate the win/loss ratio's correlation with the population of the city it is in for the **NFL** using **2018** data."
   ]
  },
  {
   "cell_type": "code",
   "execution_count": 44,
   "metadata": {
    "deletable": false,
    "nbgrader": {
     "checksum": "c4914ad1e119278ec2bd567c52640b66",
     "grade": false,
     "grade_id": "cell-8ccebc209aeec8d9",
     "locked": false,
     "schema_version": 1,
     "solution": true
    }
   },
   "outputs": [
    {
     "name": "stderr",
     "output_type": "stream",
     "text": [
      "<ipython-input-44-6f5eac00c26a>:10: FutureWarning: The default value of regex will change from True to False in a future version.\n",
      "  cities['NFL'] = cities['NFL'].str.replace(r\"\\[.*\\]\", \"\")\n",
      "<ipython-input-44-6f5eac00c26a>:11: FutureWarning: The default value of regex will change from True to False in a future version.\n",
      "  cities['MLB'] = cities['MLB'].str.replace(r\"\\[.*\\]\", \"\")\n",
      "<ipython-input-44-6f5eac00c26a>:12: FutureWarning: The default value of regex will change from True to False in a future version.\n",
      "  cities['NBA'] = cities['NBA'].str.replace(r\"\\[.*\\]\", \"\")\n",
      "<ipython-input-44-6f5eac00c26a>:13: FutureWarning: The default value of regex will change from True to False in a future version.\n",
      "  cities['NHL'] = cities['NHL'].str.replace(r\"\\[.*\\]\", \"\")\n",
      "<ipython-input-44-6f5eac00c26a>:23: FutureWarning: The default value of regex will change from True to False in a future version.\n",
      "  team['team']=team['team'].str.replace('[\\w.]*\\ ','')\n",
      "<ipython-input-44-6f5eac00c26a>:27: FutureWarning: The default value of regex will change from True to False in a future version.\n",
      "  nfl_df['team'] = nfl_df['team'].str.replace(r'[\\*]',\"\")\n",
      "<ipython-input-44-6f5eac00c26a>:28: FutureWarning: The default value of regex will change from True to False in a future version.\n",
      "  nfl_df['team'] = nfl_df['team'].str.replace(r'\\(\\d*\\)',\"\")\n",
      "<ipython-input-44-6f5eac00c26a>:29: FutureWarning: The default value of regex will change from True to False in a future version.\n",
      "  nfl_df['team'] = nfl_df['team'].str.replace(r'[\\xa0]',\"\")\n",
      "<ipython-input-44-6f5eac00c26a>:39: FutureWarning: The default value of regex will change from True to False in a future version.\n",
      "  nfl_df['team'] = nfl_df['team'].str.replace('[\\w.]* ','')\n",
      "<ipython-input-44-6f5eac00c26a>:40: FutureWarning: The default value of regex will change from True to False in a future version. In addition, single character regular expressions will*not* be treated as literal strings when regex=True.\n",
      "  nfl_df['team'] = nfl_df['team'].str.replace('+','')\n"
     ]
    },
    {
     "data": {
      "text/plain": [
       "0.004282141436393017"
      ]
     },
     "execution_count": 44,
     "metadata": {},
     "output_type": "execute_result"
    }
   ],
   "source": [
    "import pandas as pd\n",
    "import numpy as np\n",
    "import scipy.stats as stats\n",
    "import re\n",
    "\n",
    "cities=pd.read_html(r\"C:\\Users\\victo\\Desktop\\Datascience\\Data Science with python\\Course 1 - Notebook Resources\\assignments\\assignment4\\assests\\wikipedia_data.html\")[1]\n",
    "cities = cities.iloc[:-1, [0, 3, 5, 6, 7, 8]]\n",
    "cities.rename(columns={\"Population (2016 est.)[8]\": \"Population\"},\n",
    "              inplace=True)\n",
    "cities['NFL'] = cities['NFL'].str.replace(r\"\\[.*\\]\", \"\")\n",
    "cities['MLB'] = cities['MLB'].str.replace(r\"\\[.*\\]\", \"\")\n",
    "cities['NBA'] = cities['NBA'].str.replace(r\"\\[.*\\]\", \"\")\n",
    "cities['NHL'] = cities['NHL'].str.replace(r\"\\[.*\\]\", \"\")\n",
    "\n",
    "Big4='NFL'\n",
    "\n",
    "def nfl_correlation():\n",
    "    team = cities[Big4].str.extract('([A-Z]{0,2}[a-z0-9]*\\ [A-Z]{0,2}[a-z0-9]*|[A-Z]{0,2}[a-z0-9]*)([A-Z]{0,2}[a-z0-9]*\\ [A-Z]{0,2}[a-z0-9]*|[A-Z]{0,2}[a-z0-9]*)([A-Z]{0,2}[a-z0-9]*\\ [A-Z]{0,2}[a-z0-9]*|[A-Z]{0,2}[a-z0-9]*)')\n",
    "    team['Metropolitan area']=cities['Metropolitan area']\n",
    "    team = pd.melt(team, id_vars=['Metropolitan area']).drop(columns=['variable']).replace(\"\",np.nan).replace(\"—\",np.nan).dropna().reset_index().rename(columns = {\"value\":\"team\"})\n",
    "    team=pd.merge(team,cities,how='left',on = 'Metropolitan area').iloc[:,1:4]\n",
    "    team = team.astype({'Metropolitan area': str, 'team': str, 'Population': int})\n",
    "    team['team']=team['team'].str.replace('[\\w.]*\\ ','')\n",
    "   \n",
    "    nfl_df=pd.read_csv(r\"C:\\Users\\victo\\Desktop\\Datascience\\Data Science with python\\Course 1 - Notebook Resources\\assignments\\assignment4\\assests\\nfl.csv\")\n",
    "    nfl_df = nfl_df[nfl_df['year'] == 2018]\n",
    "    nfl_df['team'] = nfl_df['team'].str.replace(r'[\\*]',\"\")\n",
    "    nfl_df['team'] = nfl_df['team'].str.replace(r'\\(\\d*\\)',\"\")\n",
    "    nfl_df['team'] = nfl_df['team'].str.replace(r'[\\xa0]',\"\")\n",
    "    nfl_df = nfl_df[['team','W-L%']]\n",
    "    nfl_df.rename(columns={\"W-L%\": \"W/L%\"},inplace=True)\n",
    "    dropList=[]\n",
    "    for i in range(nfl_df.shape[0]):\n",
    "        row=nfl_df.iloc[i]\n",
    "        if row['team']==row['W/L%']:\n",
    "            dropList.append(i)\n",
    "    nfl_df=nfl_df.drop(dropList)\n",
    "\n",
    "    nfl_df['team'] = nfl_df['team'].str.replace('[\\w.]* ','')\n",
    "    nfl_df['team'] = nfl_df['team'].str.replace('+','')\n",
    "    nfl_df = nfl_df.astype({'team': str,'W/L%': float})\n",
    "   \n",
    "    merge=pd.merge(team,nfl_df,'outer', on = 'team')\n",
    "    merge=merge.groupby('Metropolitan area').agg({'W/L%': np.nanmean, 'Population': np.nanmean})\n",
    "\n",
    "    population_by_region = merge['Population'] # pass in metropolitan area population from cities\n",
    "    win_loss_by_region = merge['W/L%'] # pass in win/loss ratio from _df in the same order as cities[\"Metropolitan area\"]  \n",
    "   \n",
    "    assert len(population_by_region) == len(win_loss_by_region), \"Q4: Your lists must be the same length\"\n",
    "    assert len(population_by_region) == 29, \"Q4: There should be 29 teams being analysed for NFL\"\n",
    "\n",
    "    return stats.pearsonr(population_by_region, win_loss_by_region)[0]\n",
    "nfl_correlation()"
   ]
  },
  {
   "cell_type": "code",
   "execution_count": null,
   "metadata": {
    "deletable": false,
    "editable": false,
    "nbgrader": {
     "checksum": "e9415d6399aa49e3a1a60813afdefa3b",
     "grade": true,
     "grade_id": "cell-de7b148b9554dbda",
     "locked": true,
     "points": 20,
     "schema_version": 1,
     "solution": false
    }
   },
   "outputs": [],
   "source": []
  },
  {
   "cell_type": "markdown",
   "metadata": {
    "deletable": false,
    "editable": false,
    "nbgrader": {
     "checksum": "b02d5cd3273f561e4ae939bb2a41740c",
     "grade": false,
     "grade_id": "cell-97b49d8639e908c4",
     "locked": true,
     "schema_version": 1,
     "solution": false
    }
   },
   "source": [
    "## Question 5\n",
    "In this question I would like you to explore the hypothesis that **given that an area has two sports teams in different sports, those teams will perform the same within their respective sports**. How I would like to see this explored is with a series of paired t-tests (so use [`ttest_rel`](https://docs.scipy.org/doc/scipy/reference/generated/scipy.stats.ttest_rel.html)) between all pairs of sports. Are there any sports where we can reject the null hypothesis? Again, average values where a sport has multiple teams in one region. Remember, you will only be including, for each sport, cities which have teams engaged in that sport, drop others as appropriate. This question is worth 20% of the grade for this assignment."
   ]
  },
  {
   "cell_type": "code",
   "execution_count": 49,
   "metadata": {
    "deletable": false,
    "nbgrader": {
     "checksum": "6d78c961eb66f8d8c81f06d33ae8f393",
     "grade": false,
     "grade_id": "cell-92f25f44b8d1179f",
     "locked": false,
     "schema_version": 1,
     "solution": true
    }
   },
   "outputs": [],
   "source": [
    "import pandas as pd\n",
    "import numpy as np\n",
    "import scipy.stats as stats\n",
    "import re\n",
    "\n",
    "mlb_df=pd.read_csv(r\"C:\\Users\\victo\\Desktop\\Datascience\\Data Science with python\\Course 1 - Notebook Resources\\assignments\\assignment4\\assests\\mlb.csv\")\n",
    "nhl_df=pd.read_csv(r\"C:\\Users\\victo\\Desktop\\Datascience\\Data Science with python\\Course 1 - Notebook Resources\\assignments\\assignment4\\assests\\nhl.csv\")\n",
    "nba_df=pd.read_csv(r\"C:\\Users\\victo\\Desktop\\Datascience\\Data Science with python\\Course 1 - Notebook Resources\\assignments\\assignment4\\assests\\nba.csv\")\n",
    "nfl_df=pd.read_csv(r\"C:\\Users\\victo\\Desktop\\Datascience\\Data Science with python\\Course 1 - Notebook Resources\\assignments\\assignment4\\assests\\nfl.csv\")\n",
    "cities=pd.read_html(r\"C:\\Users\\victo\\Desktop\\Datascience\\Data Science with python\\Course 1 - Notebook Resources\\assignments\\assignment4\\assests\\wikipedia_data.html\")[1]\n",
    "cities=cities.iloc[:-1,[0,3,5,6,7,8]]\n",
    "\n",
    "def nhl_df():\n",
    "    Big4='NHL'\n",
    "    team = cities[Big4].str.extract('([A-Z]{0,2}[a-z0-9]*\\ [A-Z]{0,2}[a-z0-9]*|[A-Z]{0,2}[a-z0-9]*)([A-Z]{0,2}[a-z0-9]*\\ [A-Z]{0,2}[a-z0-9]*|[A-Z]{0,2}[a-z0-9]*)([A-Z]{0,2}[a-z0-9]*\\ [A-Z]{0,2}[a-z0-9]*|[A-Z]{0,2}[a-z0-9]*)')\n",
    "    team['Metropolitan area']=cities['Metropolitan area']\n",
    "    team = pd.melt(team, id_vars=['Metropolitan area']).drop(columns=['variable']).replace(\"\",np.nan).replace(\"—\",np.nan).dropna().reset_index().rename(columns = {\"value\":\"team\"})\n",
    "    team=pd.merge(team,cities,how='left',on = 'Metropolitan area').iloc[:,1:4]\n",
    "    team = team.astype({'Metropolitan area': str, 'team': str, 'Population': int})\n",
    "    team['team']=team['team'].str.replace('[\\w.]*\\ ','')\n",
    "   \n",
    "    _df=pd.read_csv(\"assets/\"+str.lower(Big4)+\".csv\")\n",
    "    _df = _df[_df['year'] == 2018]\n",
    "    _df['team'] = _df['team'].str.replace(r'\\*',\"\")\n",
    "    _df = _df[['team','W','L']]\n",
    "\n",
    "    dropList=[]\n",
    "    for i in range(_df.shape[0]):\n",
    "        row=_df.iloc[i]\n",
    "        if row['team']==row['W'] and row['L']==row['W']:\n",
    "            dropList.append(i)\n",
    "    _df=_df.drop(dropList)\n",
    "\n",
    "    _df['team'] = _df['team'].str.replace('[\\w.]* ','')\n",
    "    _df = _df.astype({'team': str,'W': int, 'L': int})\n",
    "    _df['W/L%'] = _df['W']/(_df['W']+_df['L'])\n",
    "   \n",
    "    merge=pd.merge(team,_df,'inner', on = 'team')\n",
    "    merge=merge.groupby('Metropolitan area').agg({'W/L%': np.nanmean, 'Population': np.nanmean})  \n",
    "\n",
    "    return merge[['W/L%']]\n",
    "\n",
    "\n",
    "\n",
    "def nba_df():\n",
    "    Big4='NBA'\n",
    "    team = cities[Big4].str.extract('([A-Z]{0,2}[a-z0-9]*\\ [A-Z]{0,2}[a-z0-9]*|[A-Z]{0,2}[a-z0-9]*)([A-Z]{0,2}[a-z0-9]*\\ [A-Z]{0,2}[a-z0-9]*|[A-Z]{0,2}[a-z0-9]*)([A-Z]{0,2}[a-z0-9]*\\ [A-Z]{0,2}[a-z0-9]*|[A-Z]{0,2}[a-z0-9]*)')\n",
    "    team['Metropolitan area']=cities['Metropolitan area']\n",
    "    team = pd.melt(team, id_vars=['Metropolitan area']).drop(columns=['variable']).replace(\"\",np.nan).replace(\"—\",np.nan).dropna().reset_index().rename(columns = {\"value\":\"team\"})\n",
    "    team=pd.merge(team,cities,how='left',on = 'Metropolitan area').iloc[:,1:4]\n",
    "    team = team.astype({'Metropolitan area': str, 'team': str, 'Population': int})\n",
    "    team['team']=team['team'].str.replace('[\\w.]*\\ ','')\n",
    "\n",
    "    _df=pd.read_csv(\"assets/\"+str.lower(Big4)+\".csv\")\n",
    "    _df = _df[_df['year'] == 2018]\n",
    "    _df['team'] = _df['team'].str.replace(r'[\\*]',\"\")\n",
    "    _df['team'] = _df['team'].str.replace(r'\\(\\d*\\)',\"\")\n",
    "    _df['team'] = _df['team'].str.replace(r'[\\xa0]',\"\")\n",
    "    _df = _df[['team','W/L%']]\n",
    "    _df['team'] = _df['team'].str.replace('[\\w.]* ','')\n",
    "    _df = _df.astype({'team': str,'W/L%': float})\n",
    "   \n",
    "    merge=pd.merge(team,_df,'outer', on = 'team')\n",
    "    merge=merge.groupby('Metropolitan area').agg({'W/L%': np.nanmean, 'Population': np.nanmean})\n",
    "    return merge[['W/L%']]\n",
    "\n",
    "\n",
    "\n",
    "def mlb_df():\n",
    "    Big4='MLB'\n",
    "    team = cities[Big4].str.extract('([A-Z]{0,2}[a-z0-9]*\\ [A-Z]{0,2}[a-z0-9]*|[A-Z]{0,2}[a-z0-9]*)([A-Z]{0,2}[a-z0-9]*\\ [A-Z]{0,2}[a-z0-9]*|[A-Z]{0,2}[a-z0-9]*)([A-Z]{0,2}[a-z0-9]*\\ [A-Z]{0,2}[a-z0-9]*|[A-Z]{0,2}[a-z0-9]*)')\n",
    "    team['Metropolitan area']=cities['Metropolitan area']\n",
    "    team = pd.melt(team, id_vars=['Metropolitan area']).drop(columns=['variable']).replace(\"\",np.nan).replace(\"—\",np.nan).dropna().reset_index().rename(columns = {\"value\":\"team\"})\n",
    "    team=pd.merge(team,cities,how='left',on = 'Metropolitan area').iloc[:,1:4]\n",
    "    team = team.astype({'Metropolitan area': str, 'team': str, 'Population': int})\n",
    "    team['team']=team['team'].str.replace('\\ Sox','Sox')\n",
    "    team['team']=team['team'].str.replace('[\\w.]*\\ ','')\n",
    "\n",
    "    _df=pd.read_csv(\"assets/\"+str.lower(Big4)+\".csv\")\n",
    "    _df = _df[_df['year'] == 2018]\n",
    "    _df['team'] = _df['team'].str.replace(r'[\\*]',\"\")\n",
    "    _df['team'] = _df['team'].str.replace(r'\\(\\d*\\)',\"\")\n",
    "    _df['team'] = _df['team'].str.replace(r'[\\xa0]',\"\")\n",
    "    _df = _df[['team','W-L%']]\n",
    "    _df.rename(columns={\"W-L%\": \"W/L%\"},inplace=True)\n",
    "    _df['team']=_df['team'].str.replace('\\ Sox','Sox')\n",
    "    _df['team'] = _df['team'].str.replace('[\\w.]* ','')\n",
    "    _df = _df.astype({'team': str,'W/L%': float})\n",
    "   \n",
    "    merge=pd.merge(team,_df,'outer', on = 'team')\n",
    "    merge=merge.groupby('Metropolitan area').agg({'W/L%': np.nanmean, 'Population': np.nanmean})\n",
    "\n",
    "    return merge[['W/L%']]\n",
    "\n",
    "def nfl_df():\n",
    "    Big4='NFL'\n",
    "    team = cities[Big4].str.extract('([A-Z]{0,2}[a-z0-9]*\\ [A-Z]{0,2}[a-z0-9]*|[A-Z]{0,2}[a-z0-9]*)([A-Z]{0,2}[a-z0-9]*\\ [A-Z]{0,2}[a-z0-9]*|[A-Z]{0,2}[a-z0-9]*)([A-Z]{0,2}[a-z0-9]*\\ [A-Z]{0,2}[a-z0-9]*|[A-Z]{0,2}[a-z0-9]*)')\n",
    "    team['Metropolitan area']=cities['Metropolitan area']\n",
    "    team = pd.melt(team, id_vars=['Metropolitan area']).drop(columns=['variable']).replace(\"\",np.nan).replace(\"—\",np.nan).dropna().reset_index().rename(columns = {\"value\":\"team\"})\n",
    "    team=pd.merge(team,cities,how='left',on = 'Metropolitan area').iloc[:,1:4]\n",
    "    team = team.astype({'Metropolitan area': str, 'team': str, 'Population': int})\n",
    "    team['team']=team['team'].str.replace('[\\w.]*\\ ','')\n",
    "   \n",
    "    _df=pd.read_csv(\"assets/\"+str.lower(Big4)+\".csv\")\n",
    "    _df = _df[_df['year'] == 2018]\n",
    "    _df['team'] = _df['team'].str.replace(r'[\\*]',\"\")\n",
    "    _df['team'] = _df['team'].str.replace(r'\\(\\d*\\)',\"\")\n",
    "    _df['team'] = _df['team'].str.replace(r'[\\xa0]',\"\")\n",
    "    _df = _df[['team','W-L%']]\n",
    "    _df.rename(columns={\"W-L%\": \"W/L%\"},inplace=True)\n",
    "    dropList=[]\n",
    "    for i in range(_df.shape[0]):\n",
    "        row=_df.iloc[i]\n",
    "        if row['team']==row['W/L%']:\n",
    "            dropList.append(i)\n",
    "    _df=_df.drop(dropList)\n",
    "\n",
    "    _df['team'] = _df['team'].str.replace('[\\w.]* ','')\n",
    "    _df['team'] = _df['team'].str.replace('+','')\n",
    "    _df = _df.astype({'team': str,'W/L%': float})\n",
    "   \n",
    "    merge=pd.merge(team,_df,'outer', on = 'team')\n",
    "    merge=merge.groupby('Metropolitan area').agg({'W/L%': np.nanmean, 'Population': np.nanmean})\n",
    "\n",
    "    return merge[['W/L%']]\n",
    "\n",
    "def create_df(sport):\n",
    "    if sport =='NFL':\n",
    "        return nfl_df()\n",
    "    elif sport =='NBA':\n",
    "        return nba_df()\n",
    "    elif sport =='NHL':\n",
    "        return nhl_df()\n",
    "    elif sport =='MLB':\n",
    "        return mlb_df()\n",
    "    else:\n",
    "        print(\"ERROR with intput!\")\n",
    "\n",
    "\n",
    "def sports_team_performance():\n",
    "    # Note: p_values is a full dataframe, so df.loc[\"NFL\",\"NBA\"] should be the same as df.loc[\"NBA\",\"NFL\"] and\n",
    "    # df.loc[\"NFL\",\"NFL\"] should return np.nan\n",
    "    sports = ['NFL', 'NBA', 'NHL', 'MLB']\n",
    "    p_values = pd.DataFrame({k:np.nan for k in sports}, index=sports)\n",
    "   \n",
    "    for i in sports:\n",
    "        for j in sports:\n",
    "            if i !=j :\n",
    "                merge=pd.merge(create_df(i),create_df(j),'inner', on = ['Metropolitan area'])\n",
    "                p_values.loc[i, j]=stats.ttest_rel(merge['W/L%_x'],merge['W/L%_y'])[1]\n",
    "\n",
    "   \n",
    "    assert abs(p_values.loc[\"NBA\", \"NHL\"] - 0.02) <= 1e-2, \"The NBA-NHL p-value should be around 0.02\"\n",
    "    assert abs(p_values.loc[\"MLB\", \"NFL\"] - 0.80) <= 1e-2, \"The MLB-NFL p-value should be around 0.80\"\n",
    "    return p_values\n",
    "\n"
   ]
  },
  {
   "cell_type": "code",
   "execution_count": null,
   "metadata": {
    "deletable": false,
    "editable": false,
    "nbgrader": {
     "checksum": "2a596ab421a45cc01168d10e8fbb8f89",
     "grade": true,
     "grade_id": "cell-fb4b9cb5ff4570a6",
     "locked": true,
     "points": 20,
     "schema_version": 1,
     "solution": false
    }
   },
   "outputs": [],
   "source": []
  }
 ],
 "metadata": {
  "coursera": {
   "schema_names": [
    "mooc_adswpy_1_v2_assignment4"
   ]
  },
  "kernelspec": {
   "display_name": "Python 3",
   "language": "python",
   "name": "python3"
  },
  "language_info": {
   "codemirror_mode": {
    "name": "ipython",
    "version": 3
   },
   "file_extension": ".py",
   "mimetype": "text/x-python",
   "name": "python",
   "nbconvert_exporter": "python",
   "pygments_lexer": "ipython3",
   "version": "3.8.8"
  }
 },
 "nbformat": 4,
 "nbformat_minor": 4
}
