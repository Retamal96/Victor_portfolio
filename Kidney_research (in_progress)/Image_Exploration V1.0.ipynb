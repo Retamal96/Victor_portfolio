{
 "cells": [
  {
   "cell_type": "markdown",
   "id": "convenient-uncle",
   "metadata": {},
   "source": [
    "# First pass through the data"
   ]
  },
  {
   "cell_type": "code",
   "execution_count": 9,
   "id": "asian-obligation",
   "metadata": {},
   "outputs": [],
   "source": [
    "import numpy as np\n",
    "import pandas as pd\n",
    "import tifffile\n",
    "import cv2 \n",
    "import os\n",
    "import math\n",
    "import matplotlib.pyplot as plt\n",
    "import glob\n",
    "import gc\n",
    "import tensorflow as tf\n",
    "import sys\n",
    "import skimage.morphology\n",
    "import json\n"
   ]
  },
  {
   "cell_type": "code",
   "execution_count": 10,
   "id": "subsequent-david",
   "metadata": {},
   "outputs": [],
   "source": [
    "#Basic parameters \n",
    "path = r\"C:\\Users\\victo\\Desktop\\Hackaton\\HuBMAP_Hacking_the_Kidney\"\n",
    "train_path = r\"C:\\Users\\victo\\Desktop\\Hackaton\\HuBMAP_Hacking_the_Kidney\\train\\\\\""
   ]
  },
  {
   "cell_type": "code",
   "execution_count": 11,
   "id": "conditional-kinase",
   "metadata": {},
   "outputs": [
    {
     "name": "stdout",
     "output_type": "stream",
     "text": [
      ".git\n",
      ".ipynb_checkpoints\n",
      "Code\n",
      "HuBMAP-20-dataset_information.csv\n",
      "Image_Exploration V1.0.ipynb\n",
      "README.md\n",
      "sample_submission.csv\n",
      "test\n",
      "train\n",
      "train.csv\n"
     ]
    }
   ],
   "source": [
    "#Whats in the folder\n",
    "print('\\n'.join(os.listdir(path)))"
   ]
  },
  {
   "cell_type": "code",
   "execution_count": 20,
   "id": "built-profile",
   "metadata": {},
   "outputs": [
    {
     "name": "stdout",
     "output_type": "stream",
     "text": [
      "Number of anatomical_files: 15\n",
      "C:\\Users\\victo\\Desktop\\Hackaton\\HuBMAP_Hacking_the_Kidney\\train\\0486052bb-anatomical-structure.json\n",
      "C:\\Users\\victo\\Desktop\\Hackaton\\HuBMAP_Hacking_the_Kidney\\train\\095bf7a1f-anatomical-structure.json\n",
      "C:\\Users\\victo\\Desktop\\Hackaton\\HuBMAP_Hacking_the_Kidney\\train\\1e2425f28-anatomical-structure.json\n",
      "C:\\Users\\victo\\Desktop\\Hackaton\\HuBMAP_Hacking_the_Kidney\\train\\26dc41664-anatomical-structure.json\n",
      "C:\\Users\\victo\\Desktop\\Hackaton\\HuBMAP_Hacking_the_Kidney\\train\\2f6ecfcdf-anatomical-structure.json\n",
      "C:\\Users\\victo\\Desktop\\Hackaton\\HuBMAP_Hacking_the_Kidney\\train\\4ef6695ce-anatomical-structure.json\n",
      "C:\\Users\\victo\\Desktop\\Hackaton\\HuBMAP_Hacking_the_Kidney\\train\\54f2eec69-anatomical-structure.json\n",
      "C:\\Users\\victo\\Desktop\\Hackaton\\HuBMAP_Hacking_the_Kidney\\train\\8242609fa-anatomical-structure.json\n",
      "C:\\Users\\victo\\Desktop\\Hackaton\\HuBMAP_Hacking_the_Kidney\\train\\aaa6a05cc-anatomical-structure.json\n",
      "C:\\Users\\victo\\Desktop\\Hackaton\\HuBMAP_Hacking_the_Kidney\\train\\afa5e8098-anatomical-structure.json\n",
      "C:\\Users\\victo\\Desktop\\Hackaton\\HuBMAP_Hacking_the_Kidney\\train\\b2dc8411c-anatomical-structure.json\n",
      "C:\\Users\\victo\\Desktop\\Hackaton\\HuBMAP_Hacking_the_Kidney\\train\\b9a3865fc-anatomical-structure.json\n",
      "C:\\Users\\victo\\Desktop\\Hackaton\\HuBMAP_Hacking_the_Kidney\\train\\c68fe75ea-anatomical-structure.json\n",
      "C:\\Users\\victo\\Desktop\\Hackaton\\HuBMAP_Hacking_the_Kidney\\train\\cb2d976f4-anatomical-structure.json\n",
      "C:\\Users\\victo\\Desktop\\Hackaton\\HuBMAP_Hacking_the_Kidney\\train\\e79de561c-anatomical-structure.json\n"
     ]
    }
   ],
   "source": [
    "anatomical_files = [os.path.basename(f) for f in glob.glob(os.path.join(path, 'train/*.json')) if \"anatomical\" in f]\n",
    "anatomical_files = [r\"C:\\Users\\victo\\Desktop\\Hackaton\\HuBMAP_Hacking_the_Kidney\\train\"+'\\\\' + file for file in anatomical_files]\n",
    "print(f'Number of anatomical_files: {len(anatomical_files)}')\n",
    "print('\\n'.join(anatomical_files))"
   ]
  },
  {
   "cell_type": "code",
   "execution_count": 18,
   "id": "requested-distribution",
   "metadata": {},
   "outputs": [
    {
     "name": "stdout",
     "output_type": "stream",
     "text": [
      "Number of masks_files: 15\n",
      "C:\\Users\\victo\\Desktop\\Hackaton\\HuBMAP_Hacking_the_Kidney\\train\\0486052bb.json\n",
      "C:\\Users\\victo\\Desktop\\Hackaton\\HuBMAP_Hacking_the_Kidney\\train\\095bf7a1f.json\n",
      "C:\\Users\\victo\\Desktop\\Hackaton\\HuBMAP_Hacking_the_Kidney\\train\\1e2425f28.json\n",
      "C:\\Users\\victo\\Desktop\\Hackaton\\HuBMAP_Hacking_the_Kidney\\train\\26dc41664.json\n",
      "C:\\Users\\victo\\Desktop\\Hackaton\\HuBMAP_Hacking_the_Kidney\\train\\2f6ecfcdf.json\n",
      "C:\\Users\\victo\\Desktop\\Hackaton\\HuBMAP_Hacking_the_Kidney\\train\\4ef6695ce.json\n",
      "C:\\Users\\victo\\Desktop\\Hackaton\\HuBMAP_Hacking_the_Kidney\\train\\54f2eec69.json\n",
      "C:\\Users\\victo\\Desktop\\Hackaton\\HuBMAP_Hacking_the_Kidney\\train\\8242609fa.json\n",
      "C:\\Users\\victo\\Desktop\\Hackaton\\HuBMAP_Hacking_the_Kidney\\train\\aaa6a05cc.json\n",
      "C:\\Users\\victo\\Desktop\\Hackaton\\HuBMAP_Hacking_the_Kidney\\train\\afa5e8098.json\n",
      "C:\\Users\\victo\\Desktop\\Hackaton\\HuBMAP_Hacking_the_Kidney\\train\\b2dc8411c.json\n",
      "C:\\Users\\victo\\Desktop\\Hackaton\\HuBMAP_Hacking_the_Kidney\\train\\b9a3865fc.json\n",
      "C:\\Users\\victo\\Desktop\\Hackaton\\HuBMAP_Hacking_the_Kidney\\train\\c68fe75ea.json\n",
      "C:\\Users\\victo\\Desktop\\Hackaton\\HuBMAP_Hacking_the_Kidney\\train\\cb2d976f4.json\n",
      "C:\\Users\\victo\\Desktop\\Hackaton\\HuBMAP_Hacking_the_Kidney\\train\\e79de561c.json\n"
     ]
    }
   ],
   "source": [
    "masks_files = [os.path.basename(f) for f in glob.glob(os.path.join(path, 'train/*.json')) if \"anatomical\" not in f]\n",
    "masks_files = [r\"C:\\Users\\victo\\Desktop\\Hackaton\\HuBMAP_Hacking_the_Kidney\\train\" +'\\\\'+ file for file in masks_files]\n",
    "print(f'Number of masks_files: {len(masks_files)}')\n",
    "print('\\n'.join(masks_files))"
   ]
  },
  {
   "cell_type": "code",
   "execution_count": 42,
   "id": "detected-mouth",
   "metadata": {},
   "outputs": [
    {
     "name": "stdout",
     "output_type": "stream",
     "text": [
      "Number of training images: 15\n",
      "C:\\Users\\victo\\Desktop\\Hackaton\\HuBMAP_Hacking_the_Kidney\\train\\0486052bb.tiff\n",
      "C:\\Users\\victo\\Desktop\\Hackaton\\HuBMAP_Hacking_the_Kidney\\train\\095bf7a1f.tiff\n",
      "C:\\Users\\victo\\Desktop\\Hackaton\\HuBMAP_Hacking_the_Kidney\\train\\1e2425f28.tiff\n",
      "C:\\Users\\victo\\Desktop\\Hackaton\\HuBMAP_Hacking_the_Kidney\\train\\26dc41664.tiff\n",
      "C:\\Users\\victo\\Desktop\\Hackaton\\HuBMAP_Hacking_the_Kidney\\train\\2f6ecfcdf.tiff\n",
      "C:\\Users\\victo\\Desktop\\Hackaton\\HuBMAP_Hacking_the_Kidney\\train\\4ef6695ce.tiff\n",
      "C:\\Users\\victo\\Desktop\\Hackaton\\HuBMAP_Hacking_the_Kidney\\train\\54f2eec69.tiff\n",
      "C:\\Users\\victo\\Desktop\\Hackaton\\HuBMAP_Hacking_the_Kidney\\train\\8242609fa.tiff\n",
      "C:\\Users\\victo\\Desktop\\Hackaton\\HuBMAP_Hacking_the_Kidney\\train\\aaa6a05cc.tiff\n",
      "C:\\Users\\victo\\Desktop\\Hackaton\\HuBMAP_Hacking_the_Kidney\\train\\afa5e8098.tiff\n",
      "C:\\Users\\victo\\Desktop\\Hackaton\\HuBMAP_Hacking_the_Kidney\\train\\b2dc8411c.tiff\n",
      "C:\\Users\\victo\\Desktop\\Hackaton\\HuBMAP_Hacking_the_Kidney\\train\\b9a3865fc.tiff\n",
      "C:\\Users\\victo\\Desktop\\Hackaton\\HuBMAP_Hacking_the_Kidney\\train\\c68fe75ea.tiff\n",
      "C:\\Users\\victo\\Desktop\\Hackaton\\HuBMAP_Hacking_the_Kidney\\train\\cb2d976f4.tiff\n",
      "C:\\Users\\victo\\Desktop\\Hackaton\\HuBMAP_Hacking_the_Kidney\\train\\e79de561c.tiff\n"
     ]
    }
   ],
   "source": [
    "train_files = sorted(glob.glob(os.path.join(path, 'train/*.tiff')))\n",
    "print(f'Number of training images: {len(train_files)}')\n",
    "print('\\n'.join(train_files))"
   ]
  },
  {
   "cell_type": "code",
   "execution_count": 14,
   "id": "progressive-captain",
   "metadata": {},
   "outputs": [
    {
     "name": "stdout",
     "output_type": "stream",
     "text": [
      "Number of test images: 5\n",
      "C:\\Users\\victo\\Desktop\\Hackaton\\HuBMAP_Hacking_the_Kidney\\test\\2ec3f1bb9.tiff\n",
      "C:\\Users\\victo\\Desktop\\Hackaton\\HuBMAP_Hacking_the_Kidney\\test\\3589adb90.tiff\n",
      "C:\\Users\\victo\\Desktop\\Hackaton\\HuBMAP_Hacking_the_Kidney\\test\\57512b7f1.tiff\n",
      "C:\\Users\\victo\\Desktop\\Hackaton\\HuBMAP_Hacking_the_Kidney\\test\\aa05346ff.tiff\n",
      "C:\\Users\\victo\\Desktop\\Hackaton\\HuBMAP_Hacking_the_Kidney\\test\\d488c759a.tiff\n"
     ]
    }
   ],
   "source": [
    "test_files = sorted(glob.glob(os.path.join(path, 'test/*.tiff')))\n",
    "print(f'Number of test images: {len(test_files)}')\n",
    "print('\\n'.join(test_files))"
   ]
  },
  {
   "cell_type": "code",
   "execution_count": null,
   "id": "eight-touch",
   "metadata": {},
   "outputs": [],
   "source": [
    "for f in train_files:\n",
    "    image = tifffile.imread(f)\n",
    "    print(f'Image {f} shape: {image.shape}', flush=True)\n",
    "    del image\n",
    "    gc.collect()\n",
    "    "
   ]
  },
  {
   "cell_type": "code",
   "execution_count": 16,
   "id": "alive-given",
   "metadata": {},
   "outputs": [
    {
     "data": {
      "text/plain": [
       "(25784, 34937, 3)"
      ]
     },
     "execution_count": 16,
     "metadata": {},
     "output_type": "execute_result"
    }
   ],
   "source": [
    "image = tifffile.imread(r'C:\\Users\\victo\\Desktop\\Hackaton\\HuBMAP_Hacking_the_Kidney\\train\\0486052bb.tiff')\n",
    "image.shape"
   ]
  },
  {
   "cell_type": "code",
   "execution_count": 35,
   "id": "pressing-fairy",
   "metadata": {},
   "outputs": [
    {
     "data": {
      "text/plain": [
       "id                                                  2f6ecfcdf\n",
       "encoding    296084587 4 296115835 6 296115859 14 296147109...\n",
       "Name: 0, dtype: object"
      ]
     },
     "execution_count": 35,
     "metadata": {},
     "output_type": "execute_result"
    }
   ],
   "source": [
    "train_df.iloc[0]"
   ]
  },
  {
   "cell_type": "code",
   "execution_count": null,
   "id": "challenging-competition",
   "metadata": {},
   "outputs": [],
   "source": [
    "#def get_tile(image, mask, x, y, tile_size, scale=1.0):\n",
    "x = round(x * scale)\n",
    "y = round(y * scale)\n",
    "size = int(round(tile_size / 2 * scale))\n",
    "image_s = image[y-size:y+size, x-size:x+size, :] \n",
    "mask_s = mask[y-size:y+size, x-size:x+size, :]\n",
    "\n"
   ]
  },
  {
   "cell_type": "code",
   "execution_count": 8,
   "id": "liquid-marketplace",
   "metadata": {},
   "outputs": [],
   "source": [
    "#Junk without plotting function \n",
    "\n",
    "class image_exploration:\n",
    "    \n",
    "    def __init__(self, image_file,train_df, df_info, full_image = True):\n",
    "        self.image_file = image_file\n",
    "        self.train_df = train_df\n",
    "        self.info = df_info\n",
    "        self.glob_scale = 0.25\n",
    "        self.plot_full_image = full_image\n",
    "       \n",
    "    \n",
    "    def get_image_id(self):\n",
    "        return os.path.splitext(os.path.split(self.image_file)[1])[0]\n",
    "    \n",
    "    \n",
    "    def read_image(self):\n",
    "        image = tifffile.imread(self.image_file)\n",
    "        \n",
    "        if image.shape[0] == 3:\n",
    "            np.transpose(image, (1,2,0))\n",
    "        \n",
    "        return image, (image.shape[0], image.shape[1])\n",
    "    \n",
    "    \n",
    "    def read_mask(self,image_shape, scale):\n",
    "        image_id = self.get_image_id()\n",
    "        mask_info = self.train_df[self.train_df['id'] == image_id]\n",
    "        rle = mask_info['encoding'].values[0]\n",
    "        mask =self.rle_to_image(rle, image_shape)\n",
    "        \n",
    "        if scale != 1.0:\n",
    "            mask = cv2.resize(mask, (0,0), fx=scale, fy=scale)\n",
    "        \n",
    "        return np.expand_dims(mask,-1)\n",
    "    \n",
    "    \n",
    "    def rle_to_image(self, rle_mask, image_shape):\n",
    "        \"\"\"\n",
    "        Converts an rle string to an image represented as a numpy array.\n",
    "        Reference: https://www.kaggle.com/paulorzp/rle-functions-run-lenght-encode-decode\n",
    "\n",
    "        :param rle_mask: string with rle mask.\n",
    "        :param image_shape: (width, height) of array to return\n",
    "        :return: Image as a numpy array. 1 = mask, 0 = background.\n",
    "        \"\"\"\n",
    "\n",
    "        # Processing\n",
    "        s = rle_mask.split()\n",
    "        starts, lengths = [np.asarray(x, dtype=int) for x in (s[0:][::2], s[1:][::2])]\n",
    "        starts -= 1\n",
    "        ends = starts + lengths\n",
    "        image = np.zeros(image_shape[0] * image_shape[1], dtype=np.uint8)\n",
    "        for lo, hi in zip(starts, ends):\n",
    "            image[lo:hi] = 1\n",
    "\n",
    "        return image.reshape(image_shape).T   \n",
    "    \n",
    "         \n",
    "    def get_particles(self, mask, scale=1.0):\n",
    "        num, labels, stats, centroids = cv2.connectedComponentsWithStats(mask)\n",
    "        df_particles = pd.DataFrame(dict(zip(['x','y','left','top','width','height','area'],\n",
    "                                   [(centroids[1:,0]) / scale,\n",
    "                                    (centroids[1:,1]) / scale,\n",
    "                                    (stats[1:,cv2.CC_STAT_LEFT]) / scale,\n",
    "                                    (stats[1:,cv2.CC_STAT_TOP]) / scale,\n",
    "                                    (stats[1:,cv2.CC_STAT_WIDTH]) / scale,\n",
    "                                    (stats[1:,cv2.CC_STAT_HEIGHT]) / scale,\n",
    "                                    (stats[1:,cv2.CC_STAT_AREA]) / (scale * scale)])))\n",
    "        df_particles.sort_values(['x','y'], inplace=True, ignore_index=True)\n",
    "        df_particles['no'] = range(len(df_particles))\n",
    "        return df_particles\n",
    "        \n",
    "        \n",
    "    def _image_analysis(self):\n",
    "        image_id = self.get_image_id()\n",
    "        image, image_shape = self.read_image()\n",
    "        mask = self.read_mask(image_shape, self.glob_scale)\n",
    "        \n",
    "        HR_mask = self.read_mask(image_shape, scale=1.0)\n",
    "        glomerulo = self.get_particles(HR_mask, scale=1.0)\n",
    "        glomerulo['Id'] = image_id\n",
    "        del HR_mask\n",
    "        gc.collect()\n",
    "        \n",
    "        info = self.info[self.info['image_file'] == f'{image_id}.tiff']\n",
    "        print(f'Image ID:        {image_id:}')\n",
    "        print(f'Image Size:      {info[\"width_pixels\"].values[0]} x {info[\"height_pixels\"].values[0]}')\n",
    "        print(f'Patient No:      {info[\"patient_number\"].values[0]}')\n",
    "        print(f'Sex:             {info[\"sex\"].values[0]}')\n",
    "        print(f'Age:             {info[\"age\"].values[0]}')\n",
    "        print(f'Race:            {info[\"race\"].values[0]}')\n",
    "        print(f'Height:          {info[\"height_centimeters\"].values[0]} cm')\n",
    "        print(f'Weight:          {info[\"weight_kilograms\"].values[0]} kg')\n",
    "        print(f'BMI:             {info[\"bmi_kg/m^2\"].values[0]} kg/m^2')\n",
    "        print(f'Laterality:      {info[\"laterality\"].values[0]}')\n",
    "        print(f'Percent Cortex:  {info[\"percent_cortex\"].values[0]} %')\n",
    "        print(f'Percent Medulla: {info[\"percent_medulla\"].values[0]} %')\n",
    "        \n",
    "   \n",
    "        \n",
    "        "
   ]
  },
  {
   "cell_type": "code",
   "execution_count": 43,
   "id": "roman-whole",
   "metadata": {},
   "outputs": [],
   "source": [
    "#Change shape \n",
    "\n",
    "class image_exploration:\n",
    "    \n",
    "    def __init__(self, image_file,train_df, df_info, full_image = True):\n",
    "        self.image_file = image_file\n",
    "        self.train_df = train_df\n",
    "        self.info = df_info\n",
    "        self.glob_scale = 0.25\n",
    "        self.plot_full_image = full_image\n",
    "        self.image_id = os.path.splitext(os.path.split(self.image_file)[1])[0]\n",
    "       \n",
    "    \n",
    "    def get_image_id(self):\n",
    "        return self.image_id\n",
    "    \n",
    "    \n",
    "    def read_image(self):\n",
    "        image = tifffile.imread(self.image_file)\n",
    "        \n",
    "        if image.shape[0] == 3:\n",
    "            np.transpose(image, (1,2,0))\n",
    "        \n",
    "        return image, (image.shape[1], image.shape[0])\n",
    "    \n",
    "    \n",
    "    def read_mask(self,image_shape, scale):\n",
    "        mask_info = self.train_df[self.train_df['id'] == self.image_id]\n",
    "        rle = mask_info['encoding'].values[0]\n",
    "        mask = self.rle_to_image(rle, image_shape)\n",
    "        \n",
    "        if scale != 1.0:\n",
    "            mask = cv2.resize(mask, (0,0), fx=scale, fy=scale)\n",
    "        \n",
    "        return np.expand_dims(mask,-1)\n",
    "    \n",
    "    \n",
    "    def rle_to_image(self, rle_mask, image_shape):\n",
    "        \"\"\"\n",
    "        Converts an rle string to an image represented as a numpy array.\n",
    "        Reference: https://www.kaggle.com/paulorzp/rle-functions-run-lenght-encode-decode\n",
    "\n",
    "        :param rle_mask: string with rle mask.\n",
    "        :param image_shape: (width, height) of array to return\n",
    "        :return: Image as a numpy array. 1 = mask, 0 = background.\n",
    "        \"\"\"\n",
    "\n",
    "        # Processing\n",
    "        s = rle_mask.split()\n",
    "        starts, lengths = [np.asarray(x, dtype=int) for x in (s[0:][::2], s[1:][::2])]\n",
    "        starts -= 1\n",
    "        ends = starts + lengths\n",
    "        image = np.zeros(image_shape[0] * image_shape[1], dtype=np.uint8)\n",
    "        for lo, hi in zip(starts, ends):\n",
    "            image[lo:hi] = 1\n",
    "\n",
    "        return image.reshape(image_shape).T   \n",
    "    \n",
    "         \n",
    "    def get_particles(self, mask, scale=1.0):\n",
    "        num, labels, stats, centroids = cv2.connectedComponentsWithStats(mask)\n",
    "        df_particles = pd.DataFrame(dict(zip(['x','y','left','top','width','height','area'],\n",
    "                                   [(centroids[1:,0]) / scale,\n",
    "                                    (centroids[1:,1]) / scale,\n",
    "                                    (stats[1:,cv2.CC_STAT_LEFT]) / scale,\n",
    "                                    (stats[1:,cv2.CC_STAT_TOP]) / scale,\n",
    "                                    (stats[1:,cv2.CC_STAT_WIDTH]) / scale,\n",
    "                                    (stats[1:,cv2.CC_STAT_HEIGHT]) / scale,\n",
    "                                    (stats[1:,cv2.CC_STAT_AREA]) / (scale * scale)])))\n",
    "        df_particles.sort_values(['x','y'], inplace=True, ignore_index=True)\n",
    "        df_particles['no'] = range(len(df_particles))\n",
    "        return df_particles\n",
    "    \n",
    "    #Next 2 functions credits from: https://www.kaggle.com/harshsharma511/one-stop-understanding-eda-efficientunet\n",
    "\n",
    "    def overlay_image_mask(self, image, mask, mask_color=(0,255,0), alpha=1.0):\n",
    "        im_f= image.astype(np.float32)       \n",
    "        mask_col = np.expand_dims(np.array(mask_color)/255.0, axis=(0,1))\n",
    "        return (im_f + alpha * mask * (np.mean(0.8 * im_f + 0.2 * 255, axis=2, keepdims=True) * mask_col - im_f)).astype(np.uint8)\n",
    "\n",
    "\n",
    "    def overlay_image_mask_original(image, mask, mask_color=(0,255,0), alpha=1.0):\n",
    "        return  np.concatenate((image, self.overlay_image_mask(image, mask)), axis=1)\n",
    "        \n",
    "    def _info(self):\n",
    "        image, image_shape = self.read_image()\n",
    "        mask = self.read_mask(image_shape, self.glob_scale)\n",
    "        \n",
    "        HR_mask = self.read_mask(image_shape, scale=1.0)\n",
    "        glomerulo = self.get_particles(HR_mask, scale=1.0)\n",
    "        glomerulo['Id'] = self.image_id\n",
    "        del HR_mask\n",
    "        gc.collect()\n",
    "        \n",
    "        info = self.info[self.info['image_file'] == f'{self.image_id}.tiff']\n",
    "        print(f'Image ID:        {self.image_id:}')\n",
    "        print(f'Image Size:      {info[\"width_pixels\"].values[0]} x {info[\"height_pixels\"].values[0]}')\n",
    "        print(f'Patient No:      {info[\"patient_number\"].values[0]}')\n",
    "        print(f'Sex:             {info[\"sex\"].values[0]}')\n",
    "        print(f'Age:             {info[\"age\"].values[0]}')\n",
    "        print(f'Race:            {info[\"race\"].values[0]}')\n",
    "        print(f'Height:          {info[\"height_centimeters\"].values[0]} cm')\n",
    "        print(f'Weight:          {info[\"weight_kilograms\"].values[0]} kg')\n",
    "        print(f'BMI:             {info[\"bmi_kg/m^2\"].values[0]} kg/m^2')\n",
    "        print(f'Laterality:      {info[\"laterality\"].values[0]}')\n",
    "        print(f'Percent Cortex:  {info[\"percent_cortex\"].values[0]} %')\n",
    "        print(f'Percent Medulla: {info[\"percent_medulla\"].values[0]} %')\n",
    "        \n",
    "\n",
    "    def _ploting(self,scale):\n",
    "        image, image_shape = self.read_image()\n",
    "        mask = self.read_mask(image_shape, scale)\n",
    "\n",
    "        scale = 0.1\n",
    "        image_small = cv2.resize(image, (0,0), fx=scale, fy=scale)\n",
    "        mask_small = cv2.resize(mask, (0,0), fx=scale, fy=scale)\n",
    "        mask_small = np.expand_dims(mask_small,-1) \n",
    "\n",
    "        plt.figure(figsize=(16, 16))\n",
    "        plt.imshow(self.overlay_image_mask(image_small, mask_small))\n",
    "        plt.axis('off')\n",
    "        \n",
    "        \n",
    "        \"\"\"image, image_shape = self.read_image()\n",
    "        mask = self.read_mask(image_shape, self.glob_scale)\n",
    "        \n",
    "        scale = 0.1\n",
    "        image_small = cv2.resize(image, (0,0), fx=scale, fy=scale)\n",
    "        mask_small = cv2.resize(mask, (0,0), fx=scale, fy=scale)\n",
    "        mask_small = np.expand_dims(mask_small,-1) \n",
    "    \n",
    "        plt.figure(figsize=(16, 16))\n",
    "        plt.imshow(self.overlay_image_mask(image_small, mask_small))\n",
    "        plt.axis('off')\"\"\""
   ]
  },
  {
   "cell_type": "code",
   "execution_count": 51,
   "id": "sixth-chuck",
   "metadata": {},
   "outputs": [],
   "source": [
    "train_df = pd.read_csv(os.path.join(path,'train.csv'))\n",
    "df_info = pd.read_csv(os.path.join(path,'HuBMAP-20-dataset_information.csv'))\n",
    "image = image_exploration(r'C:\\\\Users\\\\victo\\\\Desktop\\\\Hackaton\\\\HuBMAP_Hacking_the_Kidney\\\\train\\\\095bf7a1f.tiff',train_df,df_info)"
   ]
  },
  {
   "cell_type": "code",
   "execution_count": 50,
   "id": "activated-cleaning",
   "metadata": {},
   "outputs": [
    {
     "data": {
      "text/plain": [
       "'C:\\\\Users\\\\victo\\\\Desktop\\\\Hackaton\\\\HuBMAP_Hacking_the_Kidney\\\\train\\\\095bf7a1f.tiff'"
      ]
     },
     "execution_count": 50,
     "metadata": {},
     "output_type": "execute_result"
    }
   ],
   "source": [
    "train_files[1]"
   ]
  },
  {
   "cell_type": "code",
   "execution_count": 49,
   "id": "accessible-chinese",
   "metadata": {},
   "outputs": [
    {
     "name": "stdout",
     "output_type": "stream",
     "text": [
      "Image ID:        0486052bb\n",
      "Image Size:      34937 x 25784\n",
      "Patient No:      67177\n",
      "Sex:             Male\n",
      "Age:             31\n",
      "Race:            White\n",
      "Height:          180.3 cm\n",
      "Weight:          106.1 kg\n",
      "BMI:             32.6 kg/m^2\n",
      "Laterality:      Right\n",
      "Percent Cortex:  80 %\n",
      "Percent Medulla: 20 %\n"
     ]
    }
   ],
   "source": [
    "image._info()"
   ]
  },
  {
   "cell_type": "code",
   "execution_count": 52,
   "id": "proof-pleasure",
   "metadata": {},
   "outputs": [
    {
     "ename": "error",
     "evalue": "OpenCV(4.5.1) C:\\Users\\appveyor\\AppData\\Local\\Temp\\1\\pip-req-build-i1s8y2i1\\opencv\\modules\\imgproc\\src\\resize.cpp:4057: error: (-215:Assertion failed) !dsize.empty() in function 'cv::resize'\n",
     "output_type": "error",
     "traceback": [
      "\u001b[1;31m---------------------------------------------------------------------------\u001b[0m",
      "\u001b[1;31merror\u001b[0m                                     Traceback (most recent call last)",
      "\u001b[1;32m<ipython-input-52-d7ac78f75bba>\u001b[0m in \u001b[0;36m<module>\u001b[1;34m\u001b[0m\n\u001b[1;32m----> 1\u001b[1;33m \u001b[0mimage\u001b[0m\u001b[1;33m.\u001b[0m\u001b[0m_ploting\u001b[0m\u001b[1;33m(\u001b[0m\u001b[1;36m1\u001b[0m\u001b[1;33m)\u001b[0m\u001b[1;33m\u001b[0m\u001b[1;33m\u001b[0m\u001b[0m\n\u001b[0m",
      "\u001b[1;32m<ipython-input-43-788bbf11daf3>\u001b[0m in \u001b[0;36m_ploting\u001b[1;34m(self, scale)\u001b[0m\n\u001b[0;32m    113\u001b[0m \u001b[1;33m\u001b[0m\u001b[0m\n\u001b[0;32m    114\u001b[0m         \u001b[0mscale\u001b[0m \u001b[1;33m=\u001b[0m \u001b[1;36m0.1\u001b[0m\u001b[1;33m\u001b[0m\u001b[1;33m\u001b[0m\u001b[0m\n\u001b[1;32m--> 115\u001b[1;33m         \u001b[0mimage_small\u001b[0m \u001b[1;33m=\u001b[0m \u001b[0mcv2\u001b[0m\u001b[1;33m.\u001b[0m\u001b[0mresize\u001b[0m\u001b[1;33m(\u001b[0m\u001b[0mimage\u001b[0m\u001b[1;33m,\u001b[0m \u001b[1;33m(\u001b[0m\u001b[1;36m0\u001b[0m\u001b[1;33m,\u001b[0m\u001b[1;36m0\u001b[0m\u001b[1;33m)\u001b[0m\u001b[1;33m,\u001b[0m \u001b[0mfx\u001b[0m\u001b[1;33m=\u001b[0m\u001b[0mscale\u001b[0m\u001b[1;33m,\u001b[0m \u001b[0mfy\u001b[0m\u001b[1;33m=\u001b[0m\u001b[0mscale\u001b[0m\u001b[1;33m)\u001b[0m\u001b[1;33m\u001b[0m\u001b[1;33m\u001b[0m\u001b[0m\n\u001b[0m\u001b[0;32m    116\u001b[0m         \u001b[0mmask_small\u001b[0m \u001b[1;33m=\u001b[0m \u001b[0mcv2\u001b[0m\u001b[1;33m.\u001b[0m\u001b[0mresize\u001b[0m\u001b[1;33m(\u001b[0m\u001b[0mmask\u001b[0m\u001b[1;33m,\u001b[0m \u001b[1;33m(\u001b[0m\u001b[1;36m0\u001b[0m\u001b[1;33m,\u001b[0m\u001b[1;36m0\u001b[0m\u001b[1;33m)\u001b[0m\u001b[1;33m,\u001b[0m \u001b[0mfx\u001b[0m\u001b[1;33m=\u001b[0m\u001b[0mscale\u001b[0m\u001b[1;33m,\u001b[0m \u001b[0mfy\u001b[0m\u001b[1;33m=\u001b[0m\u001b[0mscale\u001b[0m\u001b[1;33m)\u001b[0m\u001b[1;33m\u001b[0m\u001b[1;33m\u001b[0m\u001b[0m\n\u001b[0;32m    117\u001b[0m         \u001b[0mmask_small\u001b[0m \u001b[1;33m=\u001b[0m \u001b[0mnp\u001b[0m\u001b[1;33m.\u001b[0m\u001b[0mexpand_dims\u001b[0m\u001b[1;33m(\u001b[0m\u001b[0mmask_small\u001b[0m\u001b[1;33m,\u001b[0m\u001b[1;33m-\u001b[0m\u001b[1;36m1\u001b[0m\u001b[1;33m)\u001b[0m\u001b[1;33m\u001b[0m\u001b[1;33m\u001b[0m\u001b[0m\n",
      "\u001b[1;31merror\u001b[0m: OpenCV(4.5.1) C:\\Users\\appveyor\\AppData\\Local\\Temp\\1\\pip-req-build-i1s8y2i1\\opencv\\modules\\imgproc\\src\\resize.cpp:4057: error: (-215:Assertion failed) !dsize.empty() in function 'cv::resize'\n"
     ]
    }
   ],
   "source": [
    "image._ploting(1)"
   ]
  },
  {
   "cell_type": "code",
   "execution_count": 87,
   "id": "atmospheric-argentina",
   "metadata": {},
   "outputs": [
    {
     "data": {
      "text/plain": [
       "566407"
      ]
     },
     "execution_count": 87,
     "metadata": {},
     "output_type": "execute_result"
    }
   ],
   "source": [
    "x = train_df[train_df['id'] == '0486052bb']\n",
    "len(x['encoding'].values[0])"
   ]
  },
  {
   "cell_type": "code",
   "execution_count": 21,
   "id": "pleased-vampire",
   "metadata": {
    "scrolled": true
   },
   "outputs": [
    {
     "data": {
      "text/plain": [
       "'0486052bb'"
      ]
     },
     "execution_count": 21,
     "metadata": {},
     "output_type": "execute_result"
    }
   ],
   "source": [
    "os.path.splitext(os.path.split(r'C:\\Users\\victo\\Desktop\\Hackaton\\HuBMAP_Hacking_the_Kidney\\train\\0486052bb.tiff')[1])[0]"
   ]
  },
  {
   "cell_type": "code",
   "execution_count": 22,
   "id": "grand-minority",
   "metadata": {},
   "outputs": [],
   "source": [
    "train_df = pd.read_csv(os.path.join(path,'train.csv'))\n",
    "\n",
    "rle_mask = train_df['encoding'][0]"
   ]
  }
 ],
 "metadata": {
  "kernelspec": {
   "display_name": "Python 3",
   "language": "python",
   "name": "python3"
  },
  "language_info": {
   "codemirror_mode": {
    "name": "ipython",
    "version": 3
   },
   "file_extension": ".py",
   "mimetype": "text/x-python",
   "name": "python",
   "nbconvert_exporter": "python",
   "pygments_lexer": "ipython3",
   "version": "3.8.8"
  }
 },
 "nbformat": 4,
 "nbformat_minor": 5
}
